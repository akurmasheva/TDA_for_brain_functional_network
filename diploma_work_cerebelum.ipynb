{
  "nbformat": 4,
  "nbformat_minor": 0,
  "metadata": {
    "colab": {
      "name": "diploma_work_cerebelum.ipynb",
      "provenance": [],
      "collapsed_sections": [],
      "toc_visible": true
    },
    "kernelspec": {
      "display_name": "Python 3",
      "name": "python3"
    },
    "language_info": {
      "name": "python"
    }
  },
  "cells": [
    {
      "cell_type": "markdown",
      "metadata": {
        "id": "pJZKeaXsXIru"
      },
      "source": [
        "# Libruaries import\n"
      ]
    },
    {
      "cell_type": "code",
      "metadata": {
        "colab": {
          "base_uri": "https://localhost:8080/"
        },
        "id": "Mp6WyejSC8cx",
        "outputId": "171790d5-4c18-4e98-dd92-6770f8926141"
      },
      "source": [
        "! git clone https://github.com/marcoguerra192/MinScaffold"
      ],
      "execution_count": 1,
      "outputs": [
        {
          "output_type": "stream",
          "text": [
            "Cloning into 'MinScaffold'...\n",
            "remote: Enumerating objects: 231, done.\u001b[K\n",
            "remote: Counting objects: 100% (231/231), done.\u001b[K\n",
            "remote: Compressing objects: 100% (193/193), done.\u001b[K\n",
            "remote: Total 231 (delta 34), reused 216 (delta 25), pack-reused 0\u001b[K\n",
            "Receiving objects: 100% (231/231), 12.16 MiB | 25.16 MiB/s, done.\n",
            "Resolving deltas: 100% (34/34), done.\n"
          ],
          "name": "stdout"
        }
      ]
    },
    {
      "cell_type": "code",
      "metadata": {
        "id": "unZKSERbC6jL"
      },
      "source": [
        "import sys\n",
        "sys.path.append('/content/MinScaffold/src/')\n",
        "\n",
        "import Driver\n",
        "import Geometry\n",
        "import Scaffold\n",
        "\n",
        "import math\n",
        "import numpy as np\n",
        "from random import random\n",
        "import networkx as nx\n",
        "import pickle as pk\n",
        "import matplotlib.pyplot as plt\n",
        "\n",
        "\n",
        "sys.path.append('/content/MinScaffold')\n",
        "import Holes as ho"
      ],
      "execution_count": 2,
      "outputs": []
    },
    {
      "cell_type": "code",
      "metadata": {
        "colab": {
          "base_uri": "https://localhost:8080/"
        },
        "id": "iz11Mv8sBHTP",
        "outputId": "a715185f-8efb-4dc4-fc89-6d6e08a00e49"
      },
      "source": [
        "from google.colab import drive\n",
        "drive.mount('/content/drive')"
      ],
      "execution_count": 3,
      "outputs": [
        {
          "output_type": "stream",
          "text": [
            "Drive already mounted at /content/drive; to attempt to forcibly remount, call drive.mount(\"/content/drive\", force_remount=True).\n"
          ],
          "name": "stdout"
        }
      ]
    },
    {
      "cell_type": "markdown",
      "metadata": {
        "id": "lvsQBeTgXc83"
      },
      "source": [
        "# Data import and preperation"
      ]
    },
    {
      "cell_type": "markdown",
      "metadata": {
        "id": "hyiEk13JY6Rh"
      },
      "source": [
        "There we take data from specific part of brain and get scaffold out of it. We prepare data using partial correlation as metrix of distance for homological scaffold."
      ]
    },
    {
      "cell_type": "code",
      "metadata": {
        "id": "xwUGoV-9AjXd"
      },
      "source": [
        "import pandas as pd\n",
        "from scipy import stats, linalg"
      ],
      "execution_count": 4,
      "outputs": []
    },
    {
      "cell_type": "code",
      "metadata": {
        "id": "xF4pAxa9Q8t5"
      },
      "source": [
        "import numpy as np\n",
        "from scipy import stats, linalg\n",
        "\n",
        "def partial_corr(C):\n",
        "    \"\"\"\n",
        "    Returns the sample linear partial correlation coefficients between pairs of variables in C, controlling \n",
        "    for the remaining variables in C.\n",
        "    Parameters\n",
        "    ----------\n",
        "    C : array-like, shape (n, p)\n",
        "        Array with the different variables. Each column of C is taken as a variable\n",
        "    Returns\n",
        "    -------\n",
        "    P : array-like, shape (p, p)\n",
        "        P[i, j] contains the partial correlation of C[:, i] and C[:, j] controlling\n",
        "        for the remaining variables in C.\n",
        "    \"\"\"\n",
        "    \n",
        "    C = np.asarray(C)\n",
        "    p = C.shape[1]\n",
        "    P_corr = np.zeros((p, p), dtype=np.float)\n",
        "    for i in range(p):\n",
        "        P_corr[i, i] = 1\n",
        "        for j in range(i+1, p):\n",
        "            idx = np.ones(p, dtype=np.bool)\n",
        "            idx[i] = False\n",
        "            idx[j] = False\n",
        "            beta_i = linalg.lstsq(C[:, idx], C[:, j])[0]\n",
        "            beta_j = linalg.lstsq(C[:, idx], C[:, i])[0]\n",
        "\n",
        "            res_j = C[:, j] - C[:, idx].dot( beta_i)\n",
        "            res_i = C[:, i] - C[:, idx].dot(beta_j)\n",
        "            \n",
        "            corr = stats.pearsonr(res_i, res_j)[0]\n",
        "            P_corr[i, j] = corr\n",
        "            P_corr[j, i] = corr\n",
        "        \n",
        "    return P_corr"
      ],
      "execution_count": 5,
      "outputs": []
    },
    {
      "cell_type": "code",
      "metadata": {
        "id": "ogRb20trg_vM"
      },
      "source": [
        "data = pd.read_csv('/content/drive/MyDrive/Colab Notebooks/sub-01.csv')\n",
        "columns = list(data.columns)\n",
        "Frontal_1 = columns[2:16]\n",
        "Frontal_2 = columns[22:26]\n",
        "Lingual = columns[46:48]\n",
        "Occipital = columns[48:54]\n",
        "Parietal = columns[58:62]\n",
        "Temporal = columns[80:90]\n",
        "Cerebelum = columns[91:109]"
      ],
      "execution_count": 6,
      "outputs": []
    },
    {
      "cell_type": "code",
      "metadata": {
        "id": "5VHBTuidFIzc"
      },
      "source": [
        "Frontal = []\n",
        "for i in Frontal_1:\n",
        "  Frontal.append(i)\n",
        "\n",
        "for i in Frontal_2:\n",
        "  Frontal.append(i)"
      ],
      "execution_count": 8,
      "outputs": []
    },
    {
      "cell_type": "code",
      "metadata": {
        "colab": {
          "base_uri": "https://localhost:8080/"
        },
        "id": "v11382csWytp",
        "outputId": "eb278fa6-d8c8-4979-d3a6-67fa34003755"
      },
      "source": [
        "healthy = ['01', '02', '03', '04', '05', '06', '07', '08', '09', '10', '11', '12', '13', '14', '15', '16', '17', '18', '51', '52', '54', '55', '56']\n",
        "\n",
        "Scaffolds = []\n",
        "SS = []\n",
        "c = 0\n",
        "for pat in healthy:\n",
        "    print(c)\n",
        "    data = pd.read_csv('/content/drive/MyDrive/Colab Notebooks/sub-'+ pat +'.csv')\n",
        "    df_cerebelum = data[Cerebelum]\n",
        "    df_cerebelum_corr = partial_corr(df_cerebelum)\n",
        "    W = abs(1 - df_cerebelum_corr).round(4)\n",
        "    epsList = Geometry.genFullEpsList(W)\n",
        "    F = Driver.getFiltrBasis(W, epsList, Draws=False, parallel=True, monitor=None)\n",
        "    S = Scaffold.frequency_Scaffold(F , len(W))\n",
        "    Scaf = nx.from_numpy_matrix(S, parallel_edges=False)\n",
        "    SS.append(S)\n",
        "    Scaffolds.append(Scaf)\n",
        "    c+=1"
      ],
      "execution_count": 9,
      "outputs": [
        {
          "output_type": "stream",
          "text": [
            "0\n",
            "1\n",
            "2\n",
            "3\n",
            "4\n",
            "5\n",
            "6\n",
            "7\n",
            "8\n",
            "9\n",
            "10\n",
            "11\n",
            "12\n",
            "13\n",
            "14\n",
            "15\n",
            "16\n",
            "17\n",
            "18\n",
            "19\n",
            "20\n",
            "21\n",
            "22\n"
          ],
          "name": "stdout"
        }
      ]
    },
    {
      "cell_type": "code",
      "metadata": {
        "id": "AlW477Jtl7tK"
      },
      "source": [
        "degrees = []\n",
        "for scaf in Scaffolds:\n",
        "   degrees.append(list(scaf.degree()))\n",
        "\n",
        "strength = []\n",
        "for i in range(len(SS)):\n",
        "  strength.append(SS[i].sum(0))"
      ],
      "execution_count": 10,
      "outputs": []
    },
    {
      "cell_type": "code",
      "metadata": {
        "id": "ejnVBekEw5K6"
      },
      "source": [
        "BC = []\n",
        "for scaf in Scaffolds:\n",
        "  betw_centrality = nx.algorithms.centrality.betweenness_centrality(scaf)\n",
        "  BC.append(betw_centrality)\n",
        "\n",
        "df_cerebelum_bc = pd.DataFrame(BC)\n",
        "df_cerebelum_bc = df_cerebelum_bc.transpose()\n",
        "\n",
        "CC = []\n",
        "for scaf in Scaffolds:\n",
        "  betw_centrality = nx.algorithms.centrality.closeness_centrality(scaf)\n",
        "  CC.append(betw_centrality)\n",
        "\n",
        "df_cerebelum_cc = pd.DataFrame(CC)\n",
        "df_cerebelum_cc = df_cerebelum_cc.transpose()"
      ],
      "execution_count": 11,
      "outputs": []
    },
    {
      "cell_type": "code",
      "metadata": {
        "id": "CypQlMU23nbt"
      },
      "source": [
        "for i in range(18):\n",
        "  df_cerebelum_bc = df_cerebelum_bc.rename(index={i: Cerebelum[i]})\n",
        "\n",
        "for i in range(18):\n",
        "  df_cerebelum_cc = df_cerebelum_cc.rename(index={i: Cerebelum[i]})"
      ],
      "execution_count": 12,
      "outputs": []
    },
    {
      "cell_type": "code",
      "metadata": {
        "id": "kUxh0hDmmTh4"
      },
      "source": [
        "y_list = []\n",
        "for n in range(23):\n",
        "  y = []\n",
        "  for i, j in degrees[n]:\n",
        "    y.append(j)\n",
        "  y_list.append(y)\n",
        "\n",
        "\n",
        "df_cerebelum_degrees = pd.DataFrame(index=Cerebelum)\n",
        "for i in range(23):\n",
        "    df_cerebelum_degrees[i] = pd.DataFrame(y_list[i], index=Cerebelum)\n",
        "\n",
        "df_cerebelum_strength = pd.DataFrame(index=Cerebelum)\n",
        "for i in range(23):\n",
        "    df_cerebelum_strength[i] = pd.DataFrame(strength[i], index=Cerebelum)"
      ],
      "execution_count": 13,
      "outputs": []
    },
    {
      "cell_type": "code",
      "metadata": {
        "colab": {
          "base_uri": "https://localhost:8080/",
          "height": 627
        },
        "id": "5i9AA7SUwDpF",
        "outputId": "09524cf8-b9fe-4848-8d91-504a1b3a1a7e"
      },
      "source": [
        "df_cerebelum_strength['dislexic'] = df_cerebelum_strength.iloc[:, 0:18].mean(axis=1)\n",
        "df_cerebelum_strength['healthy'] = df_cerebelum_strength.iloc[:, 18:].mean(axis=1)\n",
        "df_cerebelum_bc['dislexic'] = df_cerebelum_bc.iloc[:, 0:18].mean(axis=1)\n",
        "df_cerebelum_bc['healthy'] = df_cerebelum_bc.iloc[:, 18:].mean(axis=1)\n",
        "df_cerebelum_cc['dislexic'] = df_cerebelum_cc.iloc[:, 0:18].mean(axis=1)\n",
        "df_cerebelum_cc['healthy'] = df_cerebelum_cc.iloc[:, 18:].mean(axis=1)\n",
        "df_cerebelum_cc"
      ],
      "execution_count": 14,
      "outputs": [
        {
          "output_type": "execute_result",
          "data": {
            "text/html": [
              "<div>\n",
              "<style scoped>\n",
              "    .dataframe tbody tr th:only-of-type {\n",
              "        vertical-align: middle;\n",
              "    }\n",
              "\n",
              "    .dataframe tbody tr th {\n",
              "        vertical-align: top;\n",
              "    }\n",
              "\n",
              "    .dataframe thead th {\n",
              "        text-align: right;\n",
              "    }\n",
              "</style>\n",
              "<table border=\"1\" class=\"dataframe\">\n",
              "  <thead>\n",
              "    <tr style=\"text-align: right;\">\n",
              "      <th></th>\n",
              "      <th>0</th>\n",
              "      <th>1</th>\n",
              "      <th>2</th>\n",
              "      <th>3</th>\n",
              "      <th>4</th>\n",
              "      <th>5</th>\n",
              "      <th>6</th>\n",
              "      <th>7</th>\n",
              "      <th>8</th>\n",
              "      <th>9</th>\n",
              "      <th>10</th>\n",
              "      <th>11</th>\n",
              "      <th>12</th>\n",
              "      <th>13</th>\n",
              "      <th>14</th>\n",
              "      <th>15</th>\n",
              "      <th>16</th>\n",
              "      <th>17</th>\n",
              "      <th>18</th>\n",
              "      <th>19</th>\n",
              "      <th>20</th>\n",
              "      <th>21</th>\n",
              "      <th>22</th>\n",
              "      <th>dislexic</th>\n",
              "      <th>healthy</th>\n",
              "    </tr>\n",
              "  </thead>\n",
              "  <tbody>\n",
              "    <tr>\n",
              "      <th>Cerebelum_Crus1_L</th>\n",
              "      <td>0.653846</td>\n",
              "      <td>0.548387</td>\n",
              "      <td>0.629630</td>\n",
              "      <td>0.653846</td>\n",
              "      <td>0.586207</td>\n",
              "      <td>0.653846</td>\n",
              "      <td>0.566667</td>\n",
              "      <td>0.566667</td>\n",
              "      <td>0.629630</td>\n",
              "      <td>0.566667</td>\n",
              "      <td>0.607143</td>\n",
              "      <td>0.607143</td>\n",
              "      <td>0.531250</td>\n",
              "      <td>0.586207</td>\n",
              "      <td>0.680000</td>\n",
              "      <td>0.607143</td>\n",
              "      <td>0.607143</td>\n",
              "      <td>0.653846</td>\n",
              "      <td>0.548387</td>\n",
              "      <td>0.607143</td>\n",
              "      <td>0.515152</td>\n",
              "      <td>0.629630</td>\n",
              "      <td>0.473389</td>\n",
              "      <td>0.607515</td>\n",
              "      <td>0.563536</td>\n",
              "    </tr>\n",
              "    <tr>\n",
              "      <th>Cerebelum_Crus1_R</th>\n",
              "      <td>0.607143</td>\n",
              "      <td>0.566667</td>\n",
              "      <td>0.566667</td>\n",
              "      <td>0.531250</td>\n",
              "      <td>0.607143</td>\n",
              "      <td>0.629630</td>\n",
              "      <td>0.607143</td>\n",
              "      <td>0.607143</td>\n",
              "      <td>0.629630</td>\n",
              "      <td>0.531250</td>\n",
              "      <td>0.548387</td>\n",
              "      <td>0.607143</td>\n",
              "      <td>0.586207</td>\n",
              "      <td>0.586207</td>\n",
              "      <td>0.586207</td>\n",
              "      <td>0.566667</td>\n",
              "      <td>0.607143</td>\n",
              "      <td>0.586207</td>\n",
              "      <td>0.629630</td>\n",
              "      <td>0.607143</td>\n",
              "      <td>0.586207</td>\n",
              "      <td>0.548387</td>\n",
              "      <td>0.473389</td>\n",
              "      <td>0.586546</td>\n",
              "      <td>0.571884</td>\n",
              "    </tr>\n",
              "    <tr>\n",
              "      <th>Cerebelum_Crus2_L</th>\n",
              "      <td>0.607143</td>\n",
              "      <td>0.566667</td>\n",
              "      <td>0.607143</td>\n",
              "      <td>0.607143</td>\n",
              "      <td>0.548387</td>\n",
              "      <td>0.607143</td>\n",
              "      <td>0.607143</td>\n",
              "      <td>0.680000</td>\n",
              "      <td>0.548387</td>\n",
              "      <td>0.607143</td>\n",
              "      <td>0.500000</td>\n",
              "      <td>0.629630</td>\n",
              "      <td>0.653846</td>\n",
              "      <td>0.515152</td>\n",
              "      <td>0.548387</td>\n",
              "      <td>0.629630</td>\n",
              "      <td>0.566667</td>\n",
              "      <td>0.653846</td>\n",
              "      <td>0.566667</td>\n",
              "      <td>0.566667</td>\n",
              "      <td>0.653846</td>\n",
              "      <td>0.531250</td>\n",
              "      <td>0.432225</td>\n",
              "      <td>0.593525</td>\n",
              "      <td>0.557363</td>\n",
              "    </tr>\n",
              "    <tr>\n",
              "      <th>Cerebelum_Crus2_R</th>\n",
              "      <td>0.586207</td>\n",
              "      <td>0.629630</td>\n",
              "      <td>0.515152</td>\n",
              "      <td>0.607143</td>\n",
              "      <td>0.629630</td>\n",
              "      <td>0.653846</td>\n",
              "      <td>0.653846</td>\n",
              "      <td>0.607143</td>\n",
              "      <td>0.586207</td>\n",
              "      <td>0.629630</td>\n",
              "      <td>0.515152</td>\n",
              "      <td>0.607143</td>\n",
              "      <td>0.459459</td>\n",
              "      <td>0.629630</td>\n",
              "      <td>0.653846</td>\n",
              "      <td>0.607143</td>\n",
              "      <td>0.566667</td>\n",
              "      <td>0.607143</td>\n",
              "      <td>0.607143</td>\n",
              "      <td>0.629630</td>\n",
              "      <td>0.548387</td>\n",
              "      <td>0.586207</td>\n",
              "      <td>0.331373</td>\n",
              "      <td>0.596923</td>\n",
              "      <td>0.549944</td>\n",
              "    </tr>\n",
              "    <tr>\n",
              "      <th>Cerebelum_3_L</th>\n",
              "      <td>0.586207</td>\n",
              "      <td>0.629630</td>\n",
              "      <td>0.680000</td>\n",
              "      <td>0.472222</td>\n",
              "      <td>0.548387</td>\n",
              "      <td>0.607143</td>\n",
              "      <td>0.566667</td>\n",
              "      <td>0.629630</td>\n",
              "      <td>0.653846</td>\n",
              "      <td>0.586207</td>\n",
              "      <td>0.586207</td>\n",
              "      <td>0.566667</td>\n",
              "      <td>0.531250</td>\n",
              "      <td>0.653846</td>\n",
              "      <td>0.653846</td>\n",
              "      <td>0.531250</td>\n",
              "      <td>0.531250</td>\n",
              "      <td>0.629630</td>\n",
              "      <td>0.586207</td>\n",
              "      <td>0.531250</td>\n",
              "      <td>0.586207</td>\n",
              "      <td>0.515152</td>\n",
              "      <td>0.451872</td>\n",
              "      <td>0.591327</td>\n",
              "      <td>0.543669</td>\n",
              "    </tr>\n",
              "    <tr>\n",
              "      <th>Cerebelum_3_R</th>\n",
              "      <td>0.586207</td>\n",
              "      <td>0.566667</td>\n",
              "      <td>0.607143</td>\n",
              "      <td>0.566667</td>\n",
              "      <td>0.607143</td>\n",
              "      <td>0.586207</td>\n",
              "      <td>0.566667</td>\n",
              "      <td>0.607143</td>\n",
              "      <td>0.548387</td>\n",
              "      <td>0.607143</td>\n",
              "      <td>0.485714</td>\n",
              "      <td>0.607143</td>\n",
              "      <td>0.653846</td>\n",
              "      <td>0.586207</td>\n",
              "      <td>0.629630</td>\n",
              "      <td>0.607143</td>\n",
              "      <td>0.607143</td>\n",
              "      <td>0.607143</td>\n",
              "      <td>0.629630</td>\n",
              "      <td>0.586207</td>\n",
              "      <td>0.607143</td>\n",
              "      <td>0.680000</td>\n",
              "      <td>0.432225</td>\n",
              "      <td>0.590741</td>\n",
              "      <td>0.587658</td>\n",
              "    </tr>\n",
              "    <tr>\n",
              "      <th>Cerebelum_4_5_L</th>\n",
              "      <td>0.680000</td>\n",
              "      <td>0.607143</td>\n",
              "      <td>0.531250</td>\n",
              "      <td>0.566667</td>\n",
              "      <td>0.607143</td>\n",
              "      <td>0.629630</td>\n",
              "      <td>0.653846</td>\n",
              "      <td>0.548387</td>\n",
              "      <td>0.607143</td>\n",
              "      <td>0.607143</td>\n",
              "      <td>0.607143</td>\n",
              "      <td>0.607143</td>\n",
              "      <td>0.629630</td>\n",
              "      <td>0.607143</td>\n",
              "      <td>0.629630</td>\n",
              "      <td>0.653846</td>\n",
              "      <td>0.586207</td>\n",
              "      <td>0.607143</td>\n",
              "      <td>0.548387</td>\n",
              "      <td>0.629630</td>\n",
              "      <td>0.515152</td>\n",
              "      <td>0.548387</td>\n",
              "      <td>0.451872</td>\n",
              "      <td>0.609235</td>\n",
              "      <td>0.550444</td>\n",
              "    </tr>\n",
              "    <tr>\n",
              "      <th>Cerebelum_4_5_R</th>\n",
              "      <td>0.607143</td>\n",
              "      <td>0.629630</td>\n",
              "      <td>0.586207</td>\n",
              "      <td>0.629630</td>\n",
              "      <td>0.607143</td>\n",
              "      <td>0.607143</td>\n",
              "      <td>0.629630</td>\n",
              "      <td>0.629630</td>\n",
              "      <td>0.500000</td>\n",
              "      <td>0.607143</td>\n",
              "      <td>0.586207</td>\n",
              "      <td>0.653846</td>\n",
              "      <td>0.515152</td>\n",
              "      <td>0.629630</td>\n",
              "      <td>0.586207</td>\n",
              "      <td>0.586207</td>\n",
              "      <td>0.586207</td>\n",
              "      <td>0.629630</td>\n",
              "      <td>0.607143</td>\n",
              "      <td>0.500000</td>\n",
              "      <td>0.586207</td>\n",
              "      <td>0.531250</td>\n",
              "      <td>0.368192</td>\n",
              "      <td>0.600355</td>\n",
              "      <td>0.532191</td>\n",
              "    </tr>\n",
              "    <tr>\n",
              "      <th>Cerebelum_6_L</th>\n",
              "      <td>0.607143</td>\n",
              "      <td>0.607143</td>\n",
              "      <td>0.653846</td>\n",
              "      <td>0.607143</td>\n",
              "      <td>0.607143</td>\n",
              "      <td>0.629630</td>\n",
              "      <td>0.586207</td>\n",
              "      <td>0.653846</td>\n",
              "      <td>0.607143</td>\n",
              "      <td>0.607143</td>\n",
              "      <td>0.515152</td>\n",
              "      <td>0.607143</td>\n",
              "      <td>0.586207</td>\n",
              "      <td>0.566667</td>\n",
              "      <td>0.548387</td>\n",
              "      <td>0.629630</td>\n",
              "      <td>0.566667</td>\n",
              "      <td>0.607143</td>\n",
              "      <td>0.653846</td>\n",
              "      <td>0.485714</td>\n",
              "      <td>0.607143</td>\n",
              "      <td>0.515152</td>\n",
              "      <td>0.473389</td>\n",
              "      <td>0.599632</td>\n",
              "      <td>0.555813</td>\n",
              "    </tr>\n",
              "    <tr>\n",
              "      <th>Cerebelum_6_R</th>\n",
              "      <td>0.485714</td>\n",
              "      <td>0.586207</td>\n",
              "      <td>0.566667</td>\n",
              "      <td>0.653846</td>\n",
              "      <td>0.629630</td>\n",
              "      <td>0.629630</td>\n",
              "      <td>0.586207</td>\n",
              "      <td>0.653846</td>\n",
              "      <td>0.586207</td>\n",
              "      <td>0.566667</td>\n",
              "      <td>0.629630</td>\n",
              "      <td>0.500000</td>\n",
              "      <td>0.607143</td>\n",
              "      <td>0.586207</td>\n",
              "      <td>0.607143</td>\n",
              "      <td>0.607143</td>\n",
              "      <td>0.653846</td>\n",
              "      <td>0.607143</td>\n",
              "      <td>0.472222</td>\n",
              "      <td>0.607143</td>\n",
              "      <td>0.680000</td>\n",
              "      <td>0.566667</td>\n",
              "      <td>0.451872</td>\n",
              "      <td>0.596826</td>\n",
              "      <td>0.562455</td>\n",
              "    </tr>\n",
              "    <tr>\n",
              "      <th>Cerebelum_7b_L</th>\n",
              "      <td>0.653846</td>\n",
              "      <td>0.586207</td>\n",
              "      <td>0.566667</td>\n",
              "      <td>0.607143</td>\n",
              "      <td>0.566667</td>\n",
              "      <td>0.607143</td>\n",
              "      <td>0.653846</td>\n",
              "      <td>0.629630</td>\n",
              "      <td>0.586207</td>\n",
              "      <td>0.586207</td>\n",
              "      <td>0.515152</td>\n",
              "      <td>0.629630</td>\n",
              "      <td>0.548387</td>\n",
              "      <td>0.629630</td>\n",
              "      <td>0.607143</td>\n",
              "      <td>0.548387</td>\n",
              "      <td>0.653846</td>\n",
              "      <td>0.607143</td>\n",
              "      <td>0.629630</td>\n",
              "      <td>0.531250</td>\n",
              "      <td>0.586207</td>\n",
              "      <td>0.566667</td>\n",
              "      <td>0.000000</td>\n",
              "      <td>0.599049</td>\n",
              "      <td>0.485467</td>\n",
              "    </tr>\n",
              "    <tr>\n",
              "      <th>Cerebelum_7b_R</th>\n",
              "      <td>0.548387</td>\n",
              "      <td>0.472222</td>\n",
              "      <td>0.566667</td>\n",
              "      <td>0.586207</td>\n",
              "      <td>0.653846</td>\n",
              "      <td>0.653846</td>\n",
              "      <td>0.607143</td>\n",
              "      <td>0.566667</td>\n",
              "      <td>0.629630</td>\n",
              "      <td>0.607143</td>\n",
              "      <td>0.586207</td>\n",
              "      <td>0.586207</td>\n",
              "      <td>0.607143</td>\n",
              "      <td>0.515152</td>\n",
              "      <td>0.586207</td>\n",
              "      <td>0.586207</td>\n",
              "      <td>0.566667</td>\n",
              "      <td>0.531250</td>\n",
              "      <td>0.607143</td>\n",
              "      <td>0.531250</td>\n",
              "      <td>0.607143</td>\n",
              "      <td>0.629630</td>\n",
              "      <td>0.000000</td>\n",
              "      <td>0.580933</td>\n",
              "      <td>0.492683</td>\n",
              "    </tr>\n",
              "    <tr>\n",
              "      <th>Cerebelum_8_L</th>\n",
              "      <td>0.586207</td>\n",
              "      <td>0.548387</td>\n",
              "      <td>0.531250</td>\n",
              "      <td>0.607143</td>\n",
              "      <td>0.629630</td>\n",
              "      <td>0.607143</td>\n",
              "      <td>0.586207</td>\n",
              "      <td>0.653846</td>\n",
              "      <td>0.531250</td>\n",
              "      <td>0.586207</td>\n",
              "      <td>0.548387</td>\n",
              "      <td>0.680000</td>\n",
              "      <td>0.586207</td>\n",
              "      <td>0.629630</td>\n",
              "      <td>0.607143</td>\n",
              "      <td>0.607143</td>\n",
              "      <td>0.548387</td>\n",
              "      <td>0.629630</td>\n",
              "      <td>0.566667</td>\n",
              "      <td>0.586207</td>\n",
              "      <td>0.531250</td>\n",
              "      <td>0.653846</td>\n",
              "      <td>0.451872</td>\n",
              "      <td>0.594655</td>\n",
              "      <td>0.564083</td>\n",
              "    </tr>\n",
              "    <tr>\n",
              "      <th>Cerebelum_8_R</th>\n",
              "      <td>0.566667</td>\n",
              "      <td>0.629630</td>\n",
              "      <td>0.500000</td>\n",
              "      <td>0.629630</td>\n",
              "      <td>0.586207</td>\n",
              "      <td>0.586207</td>\n",
              "      <td>0.607143</td>\n",
              "      <td>0.629630</td>\n",
              "      <td>0.653846</td>\n",
              "      <td>0.607143</td>\n",
              "      <td>0.607143</td>\n",
              "      <td>0.629630</td>\n",
              "      <td>0.607143</td>\n",
              "      <td>0.629630</td>\n",
              "      <td>0.607143</td>\n",
              "      <td>0.629630</td>\n",
              "      <td>0.629630</td>\n",
              "      <td>0.653846</td>\n",
              "      <td>0.586207</td>\n",
              "      <td>0.629630</td>\n",
              "      <td>0.548387</td>\n",
              "      <td>0.548387</td>\n",
              "      <td>0.432225</td>\n",
              "      <td>0.610550</td>\n",
              "      <td>0.559231</td>\n",
              "    </tr>\n",
              "    <tr>\n",
              "      <th>Cerebelum_9_L</th>\n",
              "      <td>0.586207</td>\n",
              "      <td>0.607143</td>\n",
              "      <td>0.607143</td>\n",
              "      <td>0.607143</td>\n",
              "      <td>0.607143</td>\n",
              "      <td>0.629630</td>\n",
              "      <td>0.629630</td>\n",
              "      <td>0.629630</td>\n",
              "      <td>0.629630</td>\n",
              "      <td>0.629630</td>\n",
              "      <td>0.629630</td>\n",
              "      <td>0.607143</td>\n",
              "      <td>0.629630</td>\n",
              "      <td>0.607143</td>\n",
              "      <td>0.586207</td>\n",
              "      <td>0.629630</td>\n",
              "      <td>0.586207</td>\n",
              "      <td>0.629630</td>\n",
              "      <td>0.607143</td>\n",
              "      <td>0.531250</td>\n",
              "      <td>0.566667</td>\n",
              "      <td>0.566667</td>\n",
              "      <td>0.497059</td>\n",
              "      <td>0.614897</td>\n",
              "      <td>0.563947</td>\n",
              "    </tr>\n",
              "    <tr>\n",
              "      <th>Cerebelum_9_R</th>\n",
              "      <td>0.566667</td>\n",
              "      <td>0.515152</td>\n",
              "      <td>0.586207</td>\n",
              "      <td>0.629630</td>\n",
              "      <td>0.566667</td>\n",
              "      <td>0.586207</td>\n",
              "      <td>0.607143</td>\n",
              "      <td>0.607143</td>\n",
              "      <td>0.586207</td>\n",
              "      <td>0.607143</td>\n",
              "      <td>0.548387</td>\n",
              "      <td>0.629630</td>\n",
              "      <td>0.531250</td>\n",
              "      <td>0.485714</td>\n",
              "      <td>0.629630</td>\n",
              "      <td>0.566667</td>\n",
              "      <td>0.629630</td>\n",
              "      <td>0.586207</td>\n",
              "      <td>0.548387</td>\n",
              "      <td>0.607143</td>\n",
              "      <td>0.548387</td>\n",
              "      <td>0.586207</td>\n",
              "      <td>0.432225</td>\n",
              "      <td>0.581404</td>\n",
              "      <td>0.550626</td>\n",
              "    </tr>\n",
              "    <tr>\n",
              "      <th>Cerebelum_10_L</th>\n",
              "      <td>0.548387</td>\n",
              "      <td>0.566667</td>\n",
              "      <td>0.566667</td>\n",
              "      <td>0.629630</td>\n",
              "      <td>0.653846</td>\n",
              "      <td>0.586207</td>\n",
              "      <td>0.566667</td>\n",
              "      <td>0.607143</td>\n",
              "      <td>0.566667</td>\n",
              "      <td>0.629630</td>\n",
              "      <td>0.566667</td>\n",
              "      <td>0.607143</td>\n",
              "      <td>0.566667</td>\n",
              "      <td>0.548387</td>\n",
              "      <td>0.566667</td>\n",
              "      <td>0.548387</td>\n",
              "      <td>0.586207</td>\n",
              "      <td>0.607143</td>\n",
              "      <td>0.586207</td>\n",
              "      <td>0.548387</td>\n",
              "      <td>0.548387</td>\n",
              "      <td>0.485714</td>\n",
              "      <td>0.000000</td>\n",
              "      <td>0.584376</td>\n",
              "      <td>0.458845</td>\n",
              "    </tr>\n",
              "    <tr>\n",
              "      <th>Cerebelum_10_R</th>\n",
              "      <td>0.586207</td>\n",
              "      <td>0.586207</td>\n",
              "      <td>0.629630</td>\n",
              "      <td>0.586207</td>\n",
              "      <td>0.586207</td>\n",
              "      <td>0.629630</td>\n",
              "      <td>0.586207</td>\n",
              "      <td>0.586207</td>\n",
              "      <td>0.566667</td>\n",
              "      <td>0.607143</td>\n",
              "      <td>0.566667</td>\n",
              "      <td>0.531250</td>\n",
              "      <td>0.607143</td>\n",
              "      <td>0.586207</td>\n",
              "      <td>0.653846</td>\n",
              "      <td>0.653846</td>\n",
              "      <td>0.629630</td>\n",
              "      <td>0.607143</td>\n",
              "      <td>0.586207</td>\n",
              "      <td>0.548387</td>\n",
              "      <td>0.548387</td>\n",
              "      <td>0.586207</td>\n",
              "      <td>0.000000</td>\n",
              "      <td>0.599225</td>\n",
              "      <td>0.478069</td>\n",
              "    </tr>\n",
              "  </tbody>\n",
              "</table>\n",
              "</div>"
            ],
            "text/plain": [
              "                          0         1         2  ...        22  dislexic   healthy\n",
              "Cerebelum_Crus1_L  0.653846  0.548387  0.629630  ...  0.473389  0.607515  0.563536\n",
              "Cerebelum_Crus1_R  0.607143  0.566667  0.566667  ...  0.473389  0.586546  0.571884\n",
              "Cerebelum_Crus2_L  0.607143  0.566667  0.607143  ...  0.432225  0.593525  0.557363\n",
              "Cerebelum_Crus2_R  0.586207  0.629630  0.515152  ...  0.331373  0.596923  0.549944\n",
              "Cerebelum_3_L      0.586207  0.629630  0.680000  ...  0.451872  0.591327  0.543669\n",
              "Cerebelum_3_R      0.586207  0.566667  0.607143  ...  0.432225  0.590741  0.587658\n",
              "Cerebelum_4_5_L    0.680000  0.607143  0.531250  ...  0.451872  0.609235  0.550444\n",
              "Cerebelum_4_5_R    0.607143  0.629630  0.586207  ...  0.368192  0.600355  0.532191\n",
              "Cerebelum_6_L      0.607143  0.607143  0.653846  ...  0.473389  0.599632  0.555813\n",
              "Cerebelum_6_R      0.485714  0.586207  0.566667  ...  0.451872  0.596826  0.562455\n",
              "Cerebelum_7b_L     0.653846  0.586207  0.566667  ...  0.000000  0.599049  0.485467\n",
              "Cerebelum_7b_R     0.548387  0.472222  0.566667  ...  0.000000  0.580933  0.492683\n",
              "Cerebelum_8_L      0.586207  0.548387  0.531250  ...  0.451872  0.594655  0.564083\n",
              "Cerebelum_8_R      0.566667  0.629630  0.500000  ...  0.432225  0.610550  0.559231\n",
              "Cerebelum_9_L      0.586207  0.607143  0.607143  ...  0.497059  0.614897  0.563947\n",
              "Cerebelum_9_R      0.566667  0.515152  0.586207  ...  0.432225  0.581404  0.550626\n",
              "Cerebelum_10_L     0.548387  0.566667  0.566667  ...  0.000000  0.584376  0.458845\n",
              "Cerebelum_10_R     0.586207  0.586207  0.629630  ...  0.000000  0.599225  0.478069\n",
              "\n",
              "[18 rows x 25 columns]"
            ]
          },
          "metadata": {
            "tags": []
          },
          "execution_count": 14
        }
      ]
    },
    {
      "cell_type": "code",
      "metadata": {
        "id": "mO0JiuQawLKX"
      },
      "source": [
        "df_cerebelum_degrees['healthy'] = df_cerebelum_degrees.iloc[:, 0:18].mean(axis=1)\n",
        "df_cerebelum_degrees['dislexic'] = df_cerebelum_degrees.iloc[:, 18:].mean(axis=1)"
      ],
      "execution_count": 15,
      "outputs": []
    },
    {
      "cell_type": "code",
      "metadata": {
        "id": "iVkl64vVdmAA"
      },
      "source": [
        "df_new = df_cerebelum_degrees['healthy']\n",
        "df_new = df_new.reset_index()\n",
        "df_new_stre = df_cerebelum_strength['healthy']\n",
        "df_new_stre = df_new_stre.reset_index()\n",
        "df_new_bc = df_cerebelum_bc['healthy']\n",
        "df_new_bc = df_new_bc.reset_index()\n",
        "df_new_cc = df_cerebelum_cc['healthy']\n",
        "df_new_cc = df_new_cc.reset_index()"
      ],
      "execution_count": 16,
      "outputs": []
    },
    {
      "cell_type": "code",
      "metadata": {
        "id": "jySorunQes-p"
      },
      "source": [
        "df_new2 = df_cerebelum_degrees['dislexic']\n",
        "df_new2 = df_new2.reset_index()\n",
        "df_new2_stre = df_cerebelum_strength['dislexic']\n",
        "df_new2_stre = df_new2_stre.reset_index()\n",
        "df_new2_bc = df_cerebelum_bc['dislexic']\n",
        "df_new2_bc = df_new2_bc.reset_index()\n",
        "df_new2_cc = df_cerebelum_cc['dislexic']\n",
        "df_new2_cc = df_new2_cc.reset_index()"
      ],
      "execution_count": 17,
      "outputs": []
    },
    {
      "cell_type": "code",
      "metadata": {
        "id": "if91w07cf402"
      },
      "source": [
        "df_new = df_new.rename(columns={'healthy': 'Mean'})\n",
        "df_new2 = df_new2.rename(columns={'dislexic': 'Mean'})\n",
        "df_new_stre = df_new_stre.rename(columns={'healthy': 'Mean'})\n",
        "df_new2_stre = df_new2_stre.rename(columns={'dislexic': 'Mean'})\n",
        "df_new_bc = df_new_bc.rename(columns={'healthy': 'Mean'})\n",
        "df_new2_bc = df_new2_bc.rename(columns={'dislexic': 'Mean'})\n",
        "df_new_cc = df_new_cc.rename(columns={'healthy': 'Mean'})\n",
        "df_new2_cc = df_new2_cc.rename(columns={'dislexic': 'Mean'})"
      ],
      "execution_count": 18,
      "outputs": []
    },
    {
      "cell_type": "code",
      "metadata": {
        "id": "wdta8gqfgcY8"
      },
      "source": [
        "df_new['Condition'] = 'healthy'\n",
        "df_new2['Condition'] = 'dislexic'\n",
        "df_new_stre['Condition'] = 'healthy'\n",
        "df_new2_stre['Condition'] = 'dislexic'\n",
        "df_new_bc['Condition'] = 'healthy'\n",
        "df_new2_bc['Condition'] = 'dislexic'\n",
        "df_new_cc['Condition'] = 'healthy'\n",
        "df_new2_cc['Condition'] = 'dislexic'"
      ],
      "execution_count": 19,
      "outputs": []
    },
    {
      "cell_type": "code",
      "metadata": {
        "id": "_N8HNQAGg6gM"
      },
      "source": [
        "df_mean_degree = pd.concat([df_new, df_new2], ignore_index=True)\n",
        "df_mean_strength = pd.concat([df_new_stre, df_new2_stre], ignore_index=True)\n",
        "df_mean_bc = pd.concat([df_new_bc, df_new2_bc], ignore_index=True)\n",
        "df_mean_cc = pd.concat([df_new_cc, df_new2_cc], ignore_index=True)"
      ],
      "execution_count": 20,
      "outputs": []
    },
    {
      "cell_type": "code",
      "metadata": {
        "colab": {
          "base_uri": "https://localhost:8080/",
          "height": 1000
        },
        "id": "KSwINyuYhO4H",
        "outputId": "4b239ca3-4f21-4eea-8d43-864e06828a1b"
      },
      "source": [
        "df_mean_degree = df_mean_degree.sort_values(by='Mean', ascending=False)\n",
        "df_mean_strength = df_mean_strength.sort_values(by='Mean', ascending=False)\n",
        "df_mean_bc = df_mean_bc.sort_values(by='Mean', ascending=False)\n",
        "df_mean_cc = df_mean_cc.sort_values(by='Mean', ascending=False)\n",
        "df_mean_cc"
      ],
      "execution_count": 21,
      "outputs": [
        {
          "output_type": "execute_result",
          "data": {
            "text/html": [
              "<div>\n",
              "<style scoped>\n",
              "    .dataframe tbody tr th:only-of-type {\n",
              "        vertical-align: middle;\n",
              "    }\n",
              "\n",
              "    .dataframe tbody tr th {\n",
              "        vertical-align: top;\n",
              "    }\n",
              "\n",
              "    .dataframe thead th {\n",
              "        text-align: right;\n",
              "    }\n",
              "</style>\n",
              "<table border=\"1\" class=\"dataframe\">\n",
              "  <thead>\n",
              "    <tr style=\"text-align: right;\">\n",
              "      <th></th>\n",
              "      <th>index</th>\n",
              "      <th>Mean</th>\n",
              "      <th>Condition</th>\n",
              "    </tr>\n",
              "  </thead>\n",
              "  <tbody>\n",
              "    <tr>\n",
              "      <th>32</th>\n",
              "      <td>Cerebelum_9_L</td>\n",
              "      <td>0.614897</td>\n",
              "      <td>dislexic</td>\n",
              "    </tr>\n",
              "    <tr>\n",
              "      <th>31</th>\n",
              "      <td>Cerebelum_8_R</td>\n",
              "      <td>0.610550</td>\n",
              "      <td>dislexic</td>\n",
              "    </tr>\n",
              "    <tr>\n",
              "      <th>24</th>\n",
              "      <td>Cerebelum_4_5_L</td>\n",
              "      <td>0.609235</td>\n",
              "      <td>dislexic</td>\n",
              "    </tr>\n",
              "    <tr>\n",
              "      <th>18</th>\n",
              "      <td>Cerebelum_Crus1_L</td>\n",
              "      <td>0.607515</td>\n",
              "      <td>dislexic</td>\n",
              "    </tr>\n",
              "    <tr>\n",
              "      <th>25</th>\n",
              "      <td>Cerebelum_4_5_R</td>\n",
              "      <td>0.600355</td>\n",
              "      <td>dislexic</td>\n",
              "    </tr>\n",
              "    <tr>\n",
              "      <th>26</th>\n",
              "      <td>Cerebelum_6_L</td>\n",
              "      <td>0.599632</td>\n",
              "      <td>dislexic</td>\n",
              "    </tr>\n",
              "    <tr>\n",
              "      <th>35</th>\n",
              "      <td>Cerebelum_10_R</td>\n",
              "      <td>0.599225</td>\n",
              "      <td>dislexic</td>\n",
              "    </tr>\n",
              "    <tr>\n",
              "      <th>28</th>\n",
              "      <td>Cerebelum_7b_L</td>\n",
              "      <td>0.599049</td>\n",
              "      <td>dislexic</td>\n",
              "    </tr>\n",
              "    <tr>\n",
              "      <th>21</th>\n",
              "      <td>Cerebelum_Crus2_R</td>\n",
              "      <td>0.596923</td>\n",
              "      <td>dislexic</td>\n",
              "    </tr>\n",
              "    <tr>\n",
              "      <th>27</th>\n",
              "      <td>Cerebelum_6_R</td>\n",
              "      <td>0.596826</td>\n",
              "      <td>dislexic</td>\n",
              "    </tr>\n",
              "    <tr>\n",
              "      <th>30</th>\n",
              "      <td>Cerebelum_8_L</td>\n",
              "      <td>0.594655</td>\n",
              "      <td>dislexic</td>\n",
              "    </tr>\n",
              "    <tr>\n",
              "      <th>20</th>\n",
              "      <td>Cerebelum_Crus2_L</td>\n",
              "      <td>0.593525</td>\n",
              "      <td>dislexic</td>\n",
              "    </tr>\n",
              "    <tr>\n",
              "      <th>22</th>\n",
              "      <td>Cerebelum_3_L</td>\n",
              "      <td>0.591327</td>\n",
              "      <td>dislexic</td>\n",
              "    </tr>\n",
              "    <tr>\n",
              "      <th>23</th>\n",
              "      <td>Cerebelum_3_R</td>\n",
              "      <td>0.590741</td>\n",
              "      <td>dislexic</td>\n",
              "    </tr>\n",
              "    <tr>\n",
              "      <th>5</th>\n",
              "      <td>Cerebelum_3_R</td>\n",
              "      <td>0.587658</td>\n",
              "      <td>healthy</td>\n",
              "    </tr>\n",
              "    <tr>\n",
              "      <th>19</th>\n",
              "      <td>Cerebelum_Crus1_R</td>\n",
              "      <td>0.586546</td>\n",
              "      <td>dislexic</td>\n",
              "    </tr>\n",
              "    <tr>\n",
              "      <th>34</th>\n",
              "      <td>Cerebelum_10_L</td>\n",
              "      <td>0.584376</td>\n",
              "      <td>dislexic</td>\n",
              "    </tr>\n",
              "    <tr>\n",
              "      <th>33</th>\n",
              "      <td>Cerebelum_9_R</td>\n",
              "      <td>0.581404</td>\n",
              "      <td>dislexic</td>\n",
              "    </tr>\n",
              "    <tr>\n",
              "      <th>29</th>\n",
              "      <td>Cerebelum_7b_R</td>\n",
              "      <td>0.580933</td>\n",
              "      <td>dislexic</td>\n",
              "    </tr>\n",
              "    <tr>\n",
              "      <th>1</th>\n",
              "      <td>Cerebelum_Crus1_R</td>\n",
              "      <td>0.571884</td>\n",
              "      <td>healthy</td>\n",
              "    </tr>\n",
              "    <tr>\n",
              "      <th>12</th>\n",
              "      <td>Cerebelum_8_L</td>\n",
              "      <td>0.564083</td>\n",
              "      <td>healthy</td>\n",
              "    </tr>\n",
              "    <tr>\n",
              "      <th>14</th>\n",
              "      <td>Cerebelum_9_L</td>\n",
              "      <td>0.563947</td>\n",
              "      <td>healthy</td>\n",
              "    </tr>\n",
              "    <tr>\n",
              "      <th>0</th>\n",
              "      <td>Cerebelum_Crus1_L</td>\n",
              "      <td>0.563536</td>\n",
              "      <td>healthy</td>\n",
              "    </tr>\n",
              "    <tr>\n",
              "      <th>9</th>\n",
              "      <td>Cerebelum_6_R</td>\n",
              "      <td>0.562455</td>\n",
              "      <td>healthy</td>\n",
              "    </tr>\n",
              "    <tr>\n",
              "      <th>13</th>\n",
              "      <td>Cerebelum_8_R</td>\n",
              "      <td>0.559231</td>\n",
              "      <td>healthy</td>\n",
              "    </tr>\n",
              "    <tr>\n",
              "      <th>2</th>\n",
              "      <td>Cerebelum_Crus2_L</td>\n",
              "      <td>0.557363</td>\n",
              "      <td>healthy</td>\n",
              "    </tr>\n",
              "    <tr>\n",
              "      <th>8</th>\n",
              "      <td>Cerebelum_6_L</td>\n",
              "      <td>0.555813</td>\n",
              "      <td>healthy</td>\n",
              "    </tr>\n",
              "    <tr>\n",
              "      <th>15</th>\n",
              "      <td>Cerebelum_9_R</td>\n",
              "      <td>0.550626</td>\n",
              "      <td>healthy</td>\n",
              "    </tr>\n",
              "    <tr>\n",
              "      <th>6</th>\n",
              "      <td>Cerebelum_4_5_L</td>\n",
              "      <td>0.550444</td>\n",
              "      <td>healthy</td>\n",
              "    </tr>\n",
              "    <tr>\n",
              "      <th>3</th>\n",
              "      <td>Cerebelum_Crus2_R</td>\n",
              "      <td>0.549944</td>\n",
              "      <td>healthy</td>\n",
              "    </tr>\n",
              "    <tr>\n",
              "      <th>4</th>\n",
              "      <td>Cerebelum_3_L</td>\n",
              "      <td>0.543669</td>\n",
              "      <td>healthy</td>\n",
              "    </tr>\n",
              "    <tr>\n",
              "      <th>7</th>\n",
              "      <td>Cerebelum_4_5_R</td>\n",
              "      <td>0.532191</td>\n",
              "      <td>healthy</td>\n",
              "    </tr>\n",
              "    <tr>\n",
              "      <th>11</th>\n",
              "      <td>Cerebelum_7b_R</td>\n",
              "      <td>0.492683</td>\n",
              "      <td>healthy</td>\n",
              "    </tr>\n",
              "    <tr>\n",
              "      <th>10</th>\n",
              "      <td>Cerebelum_7b_L</td>\n",
              "      <td>0.485467</td>\n",
              "      <td>healthy</td>\n",
              "    </tr>\n",
              "    <tr>\n",
              "      <th>17</th>\n",
              "      <td>Cerebelum_10_R</td>\n",
              "      <td>0.478069</td>\n",
              "      <td>healthy</td>\n",
              "    </tr>\n",
              "    <tr>\n",
              "      <th>16</th>\n",
              "      <td>Cerebelum_10_L</td>\n",
              "      <td>0.458845</td>\n",
              "      <td>healthy</td>\n",
              "    </tr>\n",
              "  </tbody>\n",
              "</table>\n",
              "</div>"
            ],
            "text/plain": [
              "                index      Mean Condition\n",
              "32      Cerebelum_9_L  0.614897  dislexic\n",
              "31      Cerebelum_8_R  0.610550  dislexic\n",
              "24    Cerebelum_4_5_L  0.609235  dislexic\n",
              "18  Cerebelum_Crus1_L  0.607515  dislexic\n",
              "25    Cerebelum_4_5_R  0.600355  dislexic\n",
              "26      Cerebelum_6_L  0.599632  dislexic\n",
              "35     Cerebelum_10_R  0.599225  dislexic\n",
              "28     Cerebelum_7b_L  0.599049  dislexic\n",
              "21  Cerebelum_Crus2_R  0.596923  dislexic\n",
              "27      Cerebelum_6_R  0.596826  dislexic\n",
              "30      Cerebelum_8_L  0.594655  dislexic\n",
              "20  Cerebelum_Crus2_L  0.593525  dislexic\n",
              "22      Cerebelum_3_L  0.591327  dislexic\n",
              "23      Cerebelum_3_R  0.590741  dislexic\n",
              "5       Cerebelum_3_R  0.587658   healthy\n",
              "19  Cerebelum_Crus1_R  0.586546  dislexic\n",
              "34     Cerebelum_10_L  0.584376  dislexic\n",
              "33      Cerebelum_9_R  0.581404  dislexic\n",
              "29     Cerebelum_7b_R  0.580933  dislexic\n",
              "1   Cerebelum_Crus1_R  0.571884   healthy\n",
              "12      Cerebelum_8_L  0.564083   healthy\n",
              "14      Cerebelum_9_L  0.563947   healthy\n",
              "0   Cerebelum_Crus1_L  0.563536   healthy\n",
              "9       Cerebelum_6_R  0.562455   healthy\n",
              "13      Cerebelum_8_R  0.559231   healthy\n",
              "2   Cerebelum_Crus2_L  0.557363   healthy\n",
              "8       Cerebelum_6_L  0.555813   healthy\n",
              "15      Cerebelum_9_R  0.550626   healthy\n",
              "6     Cerebelum_4_5_L  0.550444   healthy\n",
              "3   Cerebelum_Crus2_R  0.549944   healthy\n",
              "4       Cerebelum_3_L  0.543669   healthy\n",
              "7     Cerebelum_4_5_R  0.532191   healthy\n",
              "11     Cerebelum_7b_R  0.492683   healthy\n",
              "10     Cerebelum_7b_L  0.485467   healthy\n",
              "17     Cerebelum_10_R  0.478069   healthy\n",
              "16     Cerebelum_10_L  0.458845   healthy"
            ]
          },
          "metadata": {
            "tags": []
          },
          "execution_count": 21
        }
      ]
    },
    {
      "cell_type": "markdown",
      "metadata": {
        "id": "znmrd6fLUs9g"
      },
      "source": [
        "# Visualization"
      ]
    },
    {
      "cell_type": "markdown",
      "metadata": {
        "id": "s1b6bo2eXHdL"
      },
      "source": [
        ""
      ]
    },
    {
      "cell_type": "code",
      "metadata": {
        "id": "DUEKIU2ya3Ec"
      },
      "source": [
        "import plotly.express as px"
      ],
      "execution_count": 22,
      "outputs": []
    },
    {
      "cell_type": "code",
      "metadata": {
        "colab": {
          "base_uri": "https://localhost:8080/",
          "height": 542
        },
        "id": "yfl_XNE4yHq-",
        "outputId": "bf3edd28-d1ed-463b-8742-51bf18526885"
      },
      "source": [
        "fig = px.bar(df_mean_degree, x='index', y='Mean', color='Condition', barmode='group', log_y=False)\n",
        "fig.show()"
      ],
      "execution_count": 23,
      "outputs": [
        {
          "output_type": "display_data",
          "data": {
            "text/html": [
              "<html>\n",
              "<head><meta charset=\"utf-8\" /></head>\n",
              "<body>\n",
              "    <div>\n",
              "            <script src=\"https://cdnjs.cloudflare.com/ajax/libs/mathjax/2.7.5/MathJax.js?config=TeX-AMS-MML_SVG\"></script><script type=\"text/javascript\">if (window.MathJax) {MathJax.Hub.Config({SVG: {font: \"STIX-Web\"}});}</script>\n",
              "                <script type=\"text/javascript\">window.PlotlyConfig = {MathJaxConfig: 'local'};</script>\n",
              "        <script src=\"https://cdn.plot.ly/plotly-latest.min.js\"></script>    \n",
              "            <div id=\"d595cebe-ecc3-4eb5-bb4f-30cb1c37cd37\" class=\"plotly-graph-div\" style=\"height:525px; width:100%;\"></div>\n",
              "            <script type=\"text/javascript\">\n",
              "                \n",
              "                    window.PLOTLYENV=window.PLOTLYENV || {};\n",
              "                    \n",
              "                if (document.getElementById(\"d595cebe-ecc3-4eb5-bb4f-30cb1c37cd37\")) {\n",
              "                    Plotly.newPlot(\n",
              "                        'd595cebe-ecc3-4eb5-bb4f-30cb1c37cd37',\n",
              "                        [{\"alignmentgroup\": \"True\", \"hoverlabel\": {\"namelength\": 0}, \"hovertemplate\": \"Condition=healthy<br>index=%{x}<br>Mean=%{y}\", \"legendgroup\": \"Condition=healthy\", \"marker\": {\"color\": \"#636efa\"}, \"name\": \"Condition=healthy\", \"offsetgroup\": \"Condition=healthy\", \"orientation\": \"v\", \"showlegend\": true, \"textposition\": \"auto\", \"type\": \"bar\", \"x\": [\"Cerebelum_9_L\", \"Cerebelum_8_R\", \"Cerebelum_Crus1_L\", \"Cerebelum_4_5_L\", \"Cerebelum_6_L\", \"Cerebelum_Crus2_R\", \"Cerebelum_4_5_R\", \"Cerebelum_6_R\", \"Cerebelum_Crus2_L\", \"Cerebelum_7b_L\", \"Cerebelum_8_L\", \"Cerebelum_10_R\", \"Cerebelum_3_R\", \"Cerebelum_3_L\", \"Cerebelum_Crus1_R\", \"Cerebelum_10_L\", \"Cerebelum_7b_R\", \"Cerebelum_9_R\"], \"xaxis\": \"x\", \"y\": [6.555555555555555, 6.5, 6.388888888888889, 6.388888888888889, 6.333333333333333, 6.111111111111111, 6.111111111111111, 6.055555555555555, 6.0, 5.944444444444445, 5.944444444444445, 5.944444444444445, 5.833333333333333, 5.777777777777778, 5.722222222222222, 5.611111111111111, 5.5, 5.5], \"yaxis\": \"y\"}, {\"alignmentgroup\": \"True\", \"hoverlabel\": {\"namelength\": 0}, \"hovertemplate\": \"Condition=dislexic<br>index=%{x}<br>Mean=%{y}\", \"legendgroup\": \"Condition=dislexic\", \"marker\": {\"color\": \"#EF553B\"}, \"name\": \"Condition=dislexic\", \"offsetgroup\": \"Condition=dislexic\", \"orientation\": \"v\", \"showlegend\": true, \"textposition\": \"auto\", \"type\": \"bar\", \"x\": [\"Cerebelum_3_R\", \"Cerebelum_Crus1_R\", \"Cerebelum_6_R\", \"Cerebelum_8_R\", \"Cerebelum_Crus1_L\", \"Cerebelum_8_L\", \"Cerebelum_6_L\", \"Cerebelum_Crus2_R\", \"Cerebelum_Crus2_L\", \"Cerebelum_9_L\", \"Cerebelum_9_R\", \"Cerebelum_4_5_L\", \"Cerebelum_3_L\", \"Cerebelum_7b_R\", \"Cerebelum_4_5_R\", \"Cerebelum_7b_L\", \"Cerebelum_10_R\", \"Cerebelum_10_L\"], \"xaxis\": \"x\", \"y\": [6.472222222222222, 6.12037037037037, 5.842592592592593, 5.75, 5.731481481481481, 5.657407407407407, 5.555555555555556, 5.518518518518519, 5.5, 5.4259259259259265, 5.416666666666667, 5.398148148148148, 5.12962962962963, 5.083333333333333, 4.851851851851852, 4.8240740740740735, 4.4907407407407405, 3.935185185185185], \"yaxis\": \"y\"}],\n",
              "                        {\"barmode\": \"group\", \"legend\": {\"tracegroupgap\": 0}, \"margin\": {\"t\": 60}, \"template\": {\"data\": {\"bar\": [{\"error_x\": {\"color\": \"#2a3f5f\"}, \"error_y\": {\"color\": \"#2a3f5f\"}, \"marker\": {\"line\": {\"color\": \"#E5ECF6\", \"width\": 0.5}}, \"type\": \"bar\"}], \"barpolar\": [{\"marker\": {\"line\": {\"color\": \"#E5ECF6\", \"width\": 0.5}}, \"type\": \"barpolar\"}], \"carpet\": [{\"aaxis\": {\"endlinecolor\": \"#2a3f5f\", \"gridcolor\": \"white\", \"linecolor\": \"white\", \"minorgridcolor\": \"white\", \"startlinecolor\": \"#2a3f5f\"}, \"baxis\": {\"endlinecolor\": \"#2a3f5f\", \"gridcolor\": \"white\", \"linecolor\": \"white\", \"minorgridcolor\": \"white\", \"startlinecolor\": \"#2a3f5f\"}, \"type\": \"carpet\"}], \"choropleth\": [{\"colorbar\": {\"outlinewidth\": 0, \"ticks\": \"\"}, \"type\": \"choropleth\"}], \"contour\": [{\"colorbar\": {\"outlinewidth\": 0, \"ticks\": \"\"}, \"colorscale\": [[0.0, \"#0d0887\"], [0.1111111111111111, \"#46039f\"], [0.2222222222222222, \"#7201a8\"], [0.3333333333333333, \"#9c179e\"], [0.4444444444444444, \"#bd3786\"], [0.5555555555555556, \"#d8576b\"], [0.6666666666666666, \"#ed7953\"], [0.7777777777777778, \"#fb9f3a\"], [0.8888888888888888, \"#fdca26\"], [1.0, \"#f0f921\"]], \"type\": \"contour\"}], \"contourcarpet\": [{\"colorbar\": {\"outlinewidth\": 0, \"ticks\": \"\"}, \"type\": \"contourcarpet\"}], \"heatmap\": [{\"colorbar\": {\"outlinewidth\": 0, \"ticks\": \"\"}, \"colorscale\": [[0.0, \"#0d0887\"], [0.1111111111111111, \"#46039f\"], [0.2222222222222222, \"#7201a8\"], [0.3333333333333333, \"#9c179e\"], [0.4444444444444444, \"#bd3786\"], [0.5555555555555556, \"#d8576b\"], [0.6666666666666666, \"#ed7953\"], [0.7777777777777778, \"#fb9f3a\"], [0.8888888888888888, \"#fdca26\"], [1.0, \"#f0f921\"]], \"type\": \"heatmap\"}], \"heatmapgl\": [{\"colorbar\": {\"outlinewidth\": 0, \"ticks\": \"\"}, \"colorscale\": [[0.0, \"#0d0887\"], [0.1111111111111111, \"#46039f\"], [0.2222222222222222, \"#7201a8\"], [0.3333333333333333, \"#9c179e\"], [0.4444444444444444, \"#bd3786\"], [0.5555555555555556, \"#d8576b\"], [0.6666666666666666, \"#ed7953\"], [0.7777777777777778, \"#fb9f3a\"], [0.8888888888888888, \"#fdca26\"], [1.0, \"#f0f921\"]], \"type\": \"heatmapgl\"}], \"histogram\": [{\"marker\": {\"colorbar\": {\"outlinewidth\": 0, \"ticks\": \"\"}}, \"type\": \"histogram\"}], \"histogram2d\": [{\"colorbar\": {\"outlinewidth\": 0, \"ticks\": \"\"}, \"colorscale\": [[0.0, \"#0d0887\"], [0.1111111111111111, \"#46039f\"], [0.2222222222222222, \"#7201a8\"], [0.3333333333333333, \"#9c179e\"], [0.4444444444444444, \"#bd3786\"], [0.5555555555555556, \"#d8576b\"], [0.6666666666666666, \"#ed7953\"], [0.7777777777777778, \"#fb9f3a\"], [0.8888888888888888, \"#fdca26\"], [1.0, \"#f0f921\"]], \"type\": \"histogram2d\"}], \"histogram2dcontour\": [{\"colorbar\": {\"outlinewidth\": 0, \"ticks\": \"\"}, \"colorscale\": [[0.0, \"#0d0887\"], [0.1111111111111111, \"#46039f\"], [0.2222222222222222, \"#7201a8\"], [0.3333333333333333, \"#9c179e\"], [0.4444444444444444, \"#bd3786\"], [0.5555555555555556, \"#d8576b\"], [0.6666666666666666, \"#ed7953\"], [0.7777777777777778, \"#fb9f3a\"], [0.8888888888888888, \"#fdca26\"], [1.0, \"#f0f921\"]], \"type\": \"histogram2dcontour\"}], \"mesh3d\": [{\"colorbar\": {\"outlinewidth\": 0, \"ticks\": \"\"}, \"type\": \"mesh3d\"}], \"parcoords\": [{\"line\": {\"colorbar\": {\"outlinewidth\": 0, \"ticks\": \"\"}}, \"type\": \"parcoords\"}], \"pie\": [{\"automargin\": true, \"type\": \"pie\"}], \"scatter\": [{\"marker\": {\"colorbar\": {\"outlinewidth\": 0, \"ticks\": \"\"}}, \"type\": \"scatter\"}], \"scatter3d\": [{\"line\": {\"colorbar\": {\"outlinewidth\": 0, \"ticks\": \"\"}}, \"marker\": {\"colorbar\": {\"outlinewidth\": 0, \"ticks\": \"\"}}, \"type\": \"scatter3d\"}], \"scattercarpet\": [{\"marker\": {\"colorbar\": {\"outlinewidth\": 0, \"ticks\": \"\"}}, \"type\": \"scattercarpet\"}], \"scattergeo\": [{\"marker\": {\"colorbar\": {\"outlinewidth\": 0, \"ticks\": \"\"}}, \"type\": \"scattergeo\"}], \"scattergl\": [{\"marker\": {\"colorbar\": {\"outlinewidth\": 0, \"ticks\": \"\"}}, \"type\": \"scattergl\"}], \"scattermapbox\": [{\"marker\": {\"colorbar\": {\"outlinewidth\": 0, \"ticks\": \"\"}}, \"type\": \"scattermapbox\"}], \"scatterpolar\": [{\"marker\": {\"colorbar\": {\"outlinewidth\": 0, \"ticks\": \"\"}}, \"type\": \"scatterpolar\"}], \"scatterpolargl\": [{\"marker\": {\"colorbar\": {\"outlinewidth\": 0, \"ticks\": \"\"}}, \"type\": \"scatterpolargl\"}], \"scatterternary\": [{\"marker\": {\"colorbar\": {\"outlinewidth\": 0, \"ticks\": \"\"}}, \"type\": \"scatterternary\"}], \"surface\": [{\"colorbar\": {\"outlinewidth\": 0, \"ticks\": \"\"}, \"colorscale\": [[0.0, \"#0d0887\"], [0.1111111111111111, \"#46039f\"], [0.2222222222222222, \"#7201a8\"], [0.3333333333333333, \"#9c179e\"], [0.4444444444444444, \"#bd3786\"], [0.5555555555555556, \"#d8576b\"], [0.6666666666666666, \"#ed7953\"], [0.7777777777777778, \"#fb9f3a\"], [0.8888888888888888, \"#fdca26\"], [1.0, \"#f0f921\"]], \"type\": \"surface\"}], \"table\": [{\"cells\": {\"fill\": {\"color\": \"#EBF0F8\"}, \"line\": {\"color\": \"white\"}}, \"header\": {\"fill\": {\"color\": \"#C8D4E3\"}, \"line\": {\"color\": \"white\"}}, \"type\": \"table\"}]}, \"layout\": {\"annotationdefaults\": {\"arrowcolor\": \"#2a3f5f\", \"arrowhead\": 0, \"arrowwidth\": 1}, \"coloraxis\": {\"colorbar\": {\"outlinewidth\": 0, \"ticks\": \"\"}}, \"colorscale\": {\"diverging\": [[0, \"#8e0152\"], [0.1, \"#c51b7d\"], [0.2, \"#de77ae\"], [0.3, \"#f1b6da\"], [0.4, \"#fde0ef\"], [0.5, \"#f7f7f7\"], [0.6, \"#e6f5d0\"], [0.7, \"#b8e186\"], [0.8, \"#7fbc41\"], [0.9, \"#4d9221\"], [1, \"#276419\"]], \"sequential\": [[0.0, \"#0d0887\"], [0.1111111111111111, \"#46039f\"], [0.2222222222222222, \"#7201a8\"], [0.3333333333333333, \"#9c179e\"], [0.4444444444444444, \"#bd3786\"], [0.5555555555555556, \"#d8576b\"], [0.6666666666666666, \"#ed7953\"], [0.7777777777777778, \"#fb9f3a\"], [0.8888888888888888, \"#fdca26\"], [1.0, \"#f0f921\"]], \"sequentialminus\": [[0.0, \"#0d0887\"], [0.1111111111111111, \"#46039f\"], [0.2222222222222222, \"#7201a8\"], [0.3333333333333333, \"#9c179e\"], [0.4444444444444444, \"#bd3786\"], [0.5555555555555556, \"#d8576b\"], [0.6666666666666666, \"#ed7953\"], [0.7777777777777778, \"#fb9f3a\"], [0.8888888888888888, \"#fdca26\"], [1.0, \"#f0f921\"]]}, \"colorway\": [\"#636efa\", \"#EF553B\", \"#00cc96\", \"#ab63fa\", \"#FFA15A\", \"#19d3f3\", \"#FF6692\", \"#B6E880\", \"#FF97FF\", \"#FECB52\"], \"font\": {\"color\": \"#2a3f5f\"}, \"geo\": {\"bgcolor\": \"white\", \"lakecolor\": \"white\", \"landcolor\": \"#E5ECF6\", \"showlakes\": true, \"showland\": true, \"subunitcolor\": \"white\"}, \"hoverlabel\": {\"align\": \"left\"}, \"hovermode\": \"closest\", \"mapbox\": {\"style\": \"light\"}, \"paper_bgcolor\": \"white\", \"plot_bgcolor\": \"#E5ECF6\", \"polar\": {\"angularaxis\": {\"gridcolor\": \"white\", \"linecolor\": \"white\", \"ticks\": \"\"}, \"bgcolor\": \"#E5ECF6\", \"radialaxis\": {\"gridcolor\": \"white\", \"linecolor\": \"white\", \"ticks\": \"\"}}, \"scene\": {\"xaxis\": {\"backgroundcolor\": \"#E5ECF6\", \"gridcolor\": \"white\", \"gridwidth\": 2, \"linecolor\": \"white\", \"showbackground\": true, \"ticks\": \"\", \"zerolinecolor\": \"white\"}, \"yaxis\": {\"backgroundcolor\": \"#E5ECF6\", \"gridcolor\": \"white\", \"gridwidth\": 2, \"linecolor\": \"white\", \"showbackground\": true, \"ticks\": \"\", \"zerolinecolor\": \"white\"}, \"zaxis\": {\"backgroundcolor\": \"#E5ECF6\", \"gridcolor\": \"white\", \"gridwidth\": 2, \"linecolor\": \"white\", \"showbackground\": true, \"ticks\": \"\", \"zerolinecolor\": \"white\"}}, \"shapedefaults\": {\"line\": {\"color\": \"#2a3f5f\"}}, \"ternary\": {\"aaxis\": {\"gridcolor\": \"white\", \"linecolor\": \"white\", \"ticks\": \"\"}, \"baxis\": {\"gridcolor\": \"white\", \"linecolor\": \"white\", \"ticks\": \"\"}, \"bgcolor\": \"#E5ECF6\", \"caxis\": {\"gridcolor\": \"white\", \"linecolor\": \"white\", \"ticks\": \"\"}}, \"title\": {\"x\": 0.05}, \"xaxis\": {\"automargin\": true, \"gridcolor\": \"white\", \"linecolor\": \"white\", \"ticks\": \"\", \"title\": {\"standoff\": 15}, \"zerolinecolor\": \"white\", \"zerolinewidth\": 2}, \"yaxis\": {\"automargin\": true, \"gridcolor\": \"white\", \"linecolor\": \"white\", \"ticks\": \"\", \"title\": {\"standoff\": 15}, \"zerolinecolor\": \"white\", \"zerolinewidth\": 2}}}, \"xaxis\": {\"anchor\": \"y\", \"domain\": [0.0, 1.0], \"title\": {\"text\": \"index\"}}, \"yaxis\": {\"anchor\": \"x\", \"domain\": [0.0, 1.0], \"title\": {\"text\": \"Mean\"}}},\n",
              "                        {\"responsive\": true}\n",
              "                    ).then(function(){\n",
              "                            \n",
              "var gd = document.getElementById('d595cebe-ecc3-4eb5-bb4f-30cb1c37cd37');\n",
              "var x = new MutationObserver(function (mutations, observer) {{\n",
              "        var display = window.getComputedStyle(gd).display;\n",
              "        if (!display || display === 'none') {{\n",
              "            console.log([gd, 'removed!']);\n",
              "            Plotly.purge(gd);\n",
              "            observer.disconnect();\n",
              "        }}\n",
              "}});\n",
              "\n",
              "// Listen for the removal of the full notebook cells\n",
              "var notebookContainer = gd.closest('#notebook-container');\n",
              "if (notebookContainer) {{\n",
              "    x.observe(notebookContainer, {childList: true});\n",
              "}}\n",
              "\n",
              "// Listen for the clearing of the current output cell\n",
              "var outputEl = gd.closest('.output');\n",
              "if (outputEl) {{\n",
              "    x.observe(outputEl, {childList: true});\n",
              "}}\n",
              "\n",
              "                        })\n",
              "                };\n",
              "                \n",
              "            </script>\n",
              "        </div>\n",
              "</body>\n",
              "</html>"
            ]
          },
          "metadata": {
            "tags": []
          }
        }
      ]
    },
    {
      "cell_type": "code",
      "metadata": {
        "colab": {
          "base_uri": "https://localhost:8080/",
          "height": 542
        },
        "id": "8qWi4QcwbYH5",
        "outputId": "2a86c15b-f252-4942-a7cc-9157025c434c"
      },
      "source": [
        "fig = px.bar(df_mean_strength, x='index', y='Mean', color='Condition', barmode='group', log_y=False)\n",
        "fig.show()"
      ],
      "execution_count": 24,
      "outputs": [
        {
          "output_type": "display_data",
          "data": {
            "text/html": [
              "<html>\n",
              "<head><meta charset=\"utf-8\" /></head>\n",
              "<body>\n",
              "    <div>\n",
              "            <script src=\"https://cdnjs.cloudflare.com/ajax/libs/mathjax/2.7.5/MathJax.js?config=TeX-AMS-MML_SVG\"></script><script type=\"text/javascript\">if (window.MathJax) {MathJax.Hub.Config({SVG: {font: \"STIX-Web\"}});}</script>\n",
              "                <script type=\"text/javascript\">window.PlotlyConfig = {MathJaxConfig: 'local'};</script>\n",
              "        <script src=\"https://cdn.plot.ly/plotly-latest.min.js\"></script>    \n",
              "            <div id=\"9f691ad8-8599-4b98-86e9-b48907270ade\" class=\"plotly-graph-div\" style=\"height:525px; width:100%;\"></div>\n",
              "            <script type=\"text/javascript\">\n",
              "                \n",
              "                    window.PLOTLYENV=window.PLOTLYENV || {};\n",
              "                    \n",
              "                if (document.getElementById(\"9f691ad8-8599-4b98-86e9-b48907270ade\")) {\n",
              "                    Plotly.newPlot(\n",
              "                        '9f691ad8-8599-4b98-86e9-b48907270ade',\n",
              "                        [{\"alignmentgroup\": \"True\", \"hoverlabel\": {\"namelength\": 0}, \"hovertemplate\": \"Condition=dislexic<br>index=%{x}<br>Mean=%{y}\", \"legendgroup\": \"Condition=dislexic\", \"marker\": {\"color\": \"#636efa\"}, \"name\": \"Condition=dislexic\", \"offsetgroup\": \"Condition=dislexic\", \"orientation\": \"v\", \"showlegend\": true, \"textposition\": \"auto\", \"type\": \"bar\", \"x\": [\"Cerebelum_9_L\", \"Cerebelum_8_L\", \"Cerebelum_8_R\", \"Cerebelum_4_5_R\", \"Cerebelum_7b_L\", \"Cerebelum_Crus2_R\", \"Cerebelum_Crus2_L\", \"Cerebelum_7b_R\", \"Cerebelum_3_L\", \"Cerebelum_Crus1_R\", \"Cerebelum_4_5_L\", \"Cerebelum_Crus1_L\", \"Cerebelum_6_L\", \"Cerebelum_9_R\", \"Cerebelum_10_R\", \"Cerebelum_6_R\", \"Cerebelum_10_L\", \"Cerebelum_3_R\"], \"xaxis\": \"x\", \"y\": [388.55555555555554, 370.6666666666667, 359.77777777777777, 343.22222222222223, 341.44444444444446, 336.3333333333333, 323.8888888888889, 317.44444444444446, 316.1111111111111, 314.8888888888889, 314.6666666666667, 306.0, 304.1111111111111, 303.22222222222223, 293.22222222222223, 288.44444444444446, 278.22222222222223, 237.77777777777777], \"yaxis\": \"y\"}, {\"alignmentgroup\": \"True\", \"hoverlabel\": {\"namelength\": 0}, \"hovertemplate\": \"Condition=healthy<br>index=%{x}<br>Mean=%{y}\", \"legendgroup\": \"Condition=healthy\", \"marker\": {\"color\": \"#EF553B\"}, \"name\": \"Condition=healthy\", \"offsetgroup\": \"Condition=healthy\", \"orientation\": \"v\", \"showlegend\": true, \"textposition\": \"auto\", \"type\": \"bar\", \"x\": [\"Cerebelum_4_5_R\", \"Cerebelum_4_5_L\", \"Cerebelum_8_L\", \"Cerebelum_6_R\", \"Cerebelum_3_R\", \"Cerebelum_6_L\", \"Cerebelum_7b_R\", \"Cerebelum_7b_L\", \"Cerebelum_Crus2_L\", \"Cerebelum_Crus1_L\", \"Cerebelum_9_R\", \"Cerebelum_Crus1_R\", \"Cerebelum_Crus2_R\", \"Cerebelum_8_R\", \"Cerebelum_10_R\", \"Cerebelum_3_L\", \"Cerebelum_9_L\", \"Cerebelum_10_L\"], \"xaxis\": \"x\", \"y\": [340.2037037037037, 319.44444444444446, 308.11111111111114, 293.4074074074074, 289.962962962963, 288.68518518518516, 283.5740740740741, 275.5740740740741, 264.31481481481484, 251.33333333333334, 249.87037037037035, 243.8148148148148, 238.05555555555554, 205.96296296296296, 188.2037037037037, 186.0185185185185, 173.75925925925927, 163.7037037037037], \"yaxis\": \"y\"}],\n",
              "                        {\"barmode\": \"group\", \"legend\": {\"tracegroupgap\": 0}, \"margin\": {\"t\": 60}, \"template\": {\"data\": {\"bar\": [{\"error_x\": {\"color\": \"#2a3f5f\"}, \"error_y\": {\"color\": \"#2a3f5f\"}, \"marker\": {\"line\": {\"color\": \"#E5ECF6\", \"width\": 0.5}}, \"type\": \"bar\"}], \"barpolar\": [{\"marker\": {\"line\": {\"color\": \"#E5ECF6\", \"width\": 0.5}}, \"type\": \"barpolar\"}], \"carpet\": [{\"aaxis\": {\"endlinecolor\": \"#2a3f5f\", \"gridcolor\": \"white\", \"linecolor\": \"white\", \"minorgridcolor\": \"white\", \"startlinecolor\": \"#2a3f5f\"}, \"baxis\": {\"endlinecolor\": \"#2a3f5f\", \"gridcolor\": \"white\", \"linecolor\": \"white\", \"minorgridcolor\": \"white\", \"startlinecolor\": \"#2a3f5f\"}, \"type\": \"carpet\"}], \"choropleth\": [{\"colorbar\": {\"outlinewidth\": 0, \"ticks\": \"\"}, \"type\": \"choropleth\"}], \"contour\": [{\"colorbar\": {\"outlinewidth\": 0, \"ticks\": \"\"}, \"colorscale\": [[0.0, \"#0d0887\"], [0.1111111111111111, \"#46039f\"], [0.2222222222222222, \"#7201a8\"], [0.3333333333333333, \"#9c179e\"], [0.4444444444444444, \"#bd3786\"], [0.5555555555555556, \"#d8576b\"], [0.6666666666666666, \"#ed7953\"], [0.7777777777777778, \"#fb9f3a\"], [0.8888888888888888, \"#fdca26\"], [1.0, \"#f0f921\"]], \"type\": \"contour\"}], \"contourcarpet\": [{\"colorbar\": {\"outlinewidth\": 0, \"ticks\": \"\"}, \"type\": \"contourcarpet\"}], \"heatmap\": [{\"colorbar\": {\"outlinewidth\": 0, \"ticks\": \"\"}, \"colorscale\": [[0.0, \"#0d0887\"], [0.1111111111111111, \"#46039f\"], [0.2222222222222222, \"#7201a8\"], [0.3333333333333333, \"#9c179e\"], [0.4444444444444444, \"#bd3786\"], [0.5555555555555556, \"#d8576b\"], [0.6666666666666666, \"#ed7953\"], [0.7777777777777778, \"#fb9f3a\"], [0.8888888888888888, \"#fdca26\"], [1.0, \"#f0f921\"]], \"type\": \"heatmap\"}], \"heatmapgl\": [{\"colorbar\": {\"outlinewidth\": 0, \"ticks\": \"\"}, \"colorscale\": [[0.0, \"#0d0887\"], [0.1111111111111111, \"#46039f\"], [0.2222222222222222, \"#7201a8\"], [0.3333333333333333, \"#9c179e\"], [0.4444444444444444, \"#bd3786\"], [0.5555555555555556, \"#d8576b\"], [0.6666666666666666, \"#ed7953\"], [0.7777777777777778, \"#fb9f3a\"], [0.8888888888888888, \"#fdca26\"], [1.0, \"#f0f921\"]], \"type\": \"heatmapgl\"}], \"histogram\": [{\"marker\": {\"colorbar\": {\"outlinewidth\": 0, \"ticks\": \"\"}}, \"type\": \"histogram\"}], \"histogram2d\": [{\"colorbar\": {\"outlinewidth\": 0, \"ticks\": \"\"}, \"colorscale\": [[0.0, \"#0d0887\"], [0.1111111111111111, \"#46039f\"], [0.2222222222222222, \"#7201a8\"], [0.3333333333333333, \"#9c179e\"], [0.4444444444444444, \"#bd3786\"], [0.5555555555555556, \"#d8576b\"], [0.6666666666666666, \"#ed7953\"], [0.7777777777777778, \"#fb9f3a\"], [0.8888888888888888, \"#fdca26\"], [1.0, \"#f0f921\"]], \"type\": \"histogram2d\"}], \"histogram2dcontour\": [{\"colorbar\": {\"outlinewidth\": 0, \"ticks\": \"\"}, \"colorscale\": [[0.0, \"#0d0887\"], [0.1111111111111111, \"#46039f\"], [0.2222222222222222, \"#7201a8\"], [0.3333333333333333, \"#9c179e\"], [0.4444444444444444, \"#bd3786\"], [0.5555555555555556, \"#d8576b\"], [0.6666666666666666, \"#ed7953\"], [0.7777777777777778, \"#fb9f3a\"], [0.8888888888888888, \"#fdca26\"], [1.0, \"#f0f921\"]], \"type\": \"histogram2dcontour\"}], \"mesh3d\": [{\"colorbar\": {\"outlinewidth\": 0, \"ticks\": \"\"}, \"type\": \"mesh3d\"}], \"parcoords\": [{\"line\": {\"colorbar\": {\"outlinewidth\": 0, \"ticks\": \"\"}}, \"type\": \"parcoords\"}], \"pie\": [{\"automargin\": true, \"type\": \"pie\"}], \"scatter\": [{\"marker\": {\"colorbar\": {\"outlinewidth\": 0, \"ticks\": \"\"}}, \"type\": \"scatter\"}], \"scatter3d\": [{\"line\": {\"colorbar\": {\"outlinewidth\": 0, \"ticks\": \"\"}}, \"marker\": {\"colorbar\": {\"outlinewidth\": 0, \"ticks\": \"\"}}, \"type\": \"scatter3d\"}], \"scattercarpet\": [{\"marker\": {\"colorbar\": {\"outlinewidth\": 0, \"ticks\": \"\"}}, \"type\": \"scattercarpet\"}], \"scattergeo\": [{\"marker\": {\"colorbar\": {\"outlinewidth\": 0, \"ticks\": \"\"}}, \"type\": \"scattergeo\"}], \"scattergl\": [{\"marker\": {\"colorbar\": {\"outlinewidth\": 0, \"ticks\": \"\"}}, \"type\": \"scattergl\"}], \"scattermapbox\": [{\"marker\": {\"colorbar\": {\"outlinewidth\": 0, \"ticks\": \"\"}}, \"type\": \"scattermapbox\"}], \"scatterpolar\": [{\"marker\": {\"colorbar\": {\"outlinewidth\": 0, \"ticks\": \"\"}}, \"type\": \"scatterpolar\"}], \"scatterpolargl\": [{\"marker\": {\"colorbar\": {\"outlinewidth\": 0, \"ticks\": \"\"}}, \"type\": \"scatterpolargl\"}], \"scatterternary\": [{\"marker\": {\"colorbar\": {\"outlinewidth\": 0, \"ticks\": \"\"}}, \"type\": \"scatterternary\"}], \"surface\": [{\"colorbar\": {\"outlinewidth\": 0, \"ticks\": \"\"}, \"colorscale\": [[0.0, \"#0d0887\"], [0.1111111111111111, \"#46039f\"], [0.2222222222222222, \"#7201a8\"], [0.3333333333333333, \"#9c179e\"], [0.4444444444444444, \"#bd3786\"], [0.5555555555555556, \"#d8576b\"], [0.6666666666666666, \"#ed7953\"], [0.7777777777777778, \"#fb9f3a\"], [0.8888888888888888, \"#fdca26\"], [1.0, \"#f0f921\"]], \"type\": \"surface\"}], \"table\": [{\"cells\": {\"fill\": {\"color\": \"#EBF0F8\"}, \"line\": {\"color\": \"white\"}}, \"header\": {\"fill\": {\"color\": \"#C8D4E3\"}, \"line\": {\"color\": \"white\"}}, \"type\": \"table\"}]}, \"layout\": {\"annotationdefaults\": {\"arrowcolor\": \"#2a3f5f\", \"arrowhead\": 0, \"arrowwidth\": 1}, \"coloraxis\": {\"colorbar\": {\"outlinewidth\": 0, \"ticks\": \"\"}}, \"colorscale\": {\"diverging\": [[0, \"#8e0152\"], [0.1, \"#c51b7d\"], [0.2, \"#de77ae\"], [0.3, \"#f1b6da\"], [0.4, \"#fde0ef\"], [0.5, \"#f7f7f7\"], [0.6, \"#e6f5d0\"], [0.7, \"#b8e186\"], [0.8, \"#7fbc41\"], [0.9, \"#4d9221\"], [1, \"#276419\"]], \"sequential\": [[0.0, \"#0d0887\"], [0.1111111111111111, \"#46039f\"], [0.2222222222222222, \"#7201a8\"], [0.3333333333333333, \"#9c179e\"], [0.4444444444444444, \"#bd3786\"], [0.5555555555555556, \"#d8576b\"], [0.6666666666666666, \"#ed7953\"], [0.7777777777777778, \"#fb9f3a\"], [0.8888888888888888, \"#fdca26\"], [1.0, \"#f0f921\"]], \"sequentialminus\": [[0.0, \"#0d0887\"], [0.1111111111111111, \"#46039f\"], [0.2222222222222222, \"#7201a8\"], [0.3333333333333333, \"#9c179e\"], [0.4444444444444444, \"#bd3786\"], [0.5555555555555556, \"#d8576b\"], [0.6666666666666666, \"#ed7953\"], [0.7777777777777778, \"#fb9f3a\"], [0.8888888888888888, \"#fdca26\"], [1.0, \"#f0f921\"]]}, \"colorway\": [\"#636efa\", \"#EF553B\", \"#00cc96\", \"#ab63fa\", \"#FFA15A\", \"#19d3f3\", \"#FF6692\", \"#B6E880\", \"#FF97FF\", \"#FECB52\"], \"font\": {\"color\": \"#2a3f5f\"}, \"geo\": {\"bgcolor\": \"white\", \"lakecolor\": \"white\", \"landcolor\": \"#E5ECF6\", \"showlakes\": true, \"showland\": true, \"subunitcolor\": \"white\"}, \"hoverlabel\": {\"align\": \"left\"}, \"hovermode\": \"closest\", \"mapbox\": {\"style\": \"light\"}, \"paper_bgcolor\": \"white\", \"plot_bgcolor\": \"#E5ECF6\", \"polar\": {\"angularaxis\": {\"gridcolor\": \"white\", \"linecolor\": \"white\", \"ticks\": \"\"}, \"bgcolor\": \"#E5ECF6\", \"radialaxis\": {\"gridcolor\": \"white\", \"linecolor\": \"white\", \"ticks\": \"\"}}, \"scene\": {\"xaxis\": {\"backgroundcolor\": \"#E5ECF6\", \"gridcolor\": \"white\", \"gridwidth\": 2, \"linecolor\": \"white\", \"showbackground\": true, \"ticks\": \"\", \"zerolinecolor\": \"white\"}, \"yaxis\": {\"backgroundcolor\": \"#E5ECF6\", \"gridcolor\": \"white\", \"gridwidth\": 2, \"linecolor\": \"white\", \"showbackground\": true, \"ticks\": \"\", \"zerolinecolor\": \"white\"}, \"zaxis\": {\"backgroundcolor\": \"#E5ECF6\", \"gridcolor\": \"white\", \"gridwidth\": 2, \"linecolor\": \"white\", \"showbackground\": true, \"ticks\": \"\", \"zerolinecolor\": \"white\"}}, \"shapedefaults\": {\"line\": {\"color\": \"#2a3f5f\"}}, \"ternary\": {\"aaxis\": {\"gridcolor\": \"white\", \"linecolor\": \"white\", \"ticks\": \"\"}, \"baxis\": {\"gridcolor\": \"white\", \"linecolor\": \"white\", \"ticks\": \"\"}, \"bgcolor\": \"#E5ECF6\", \"caxis\": {\"gridcolor\": \"white\", \"linecolor\": \"white\", \"ticks\": \"\"}}, \"title\": {\"x\": 0.05}, \"xaxis\": {\"automargin\": true, \"gridcolor\": \"white\", \"linecolor\": \"white\", \"ticks\": \"\", \"title\": {\"standoff\": 15}, \"zerolinecolor\": \"white\", \"zerolinewidth\": 2}, \"yaxis\": {\"automargin\": true, \"gridcolor\": \"white\", \"linecolor\": \"white\", \"ticks\": \"\", \"title\": {\"standoff\": 15}, \"zerolinecolor\": \"white\", \"zerolinewidth\": 2}}}, \"xaxis\": {\"anchor\": \"y\", \"domain\": [0.0, 1.0], \"title\": {\"text\": \"index\"}}, \"yaxis\": {\"anchor\": \"x\", \"domain\": [0.0, 1.0], \"title\": {\"text\": \"Mean\"}}},\n",
              "                        {\"responsive\": true}\n",
              "                    ).then(function(){\n",
              "                            \n",
              "var gd = document.getElementById('9f691ad8-8599-4b98-86e9-b48907270ade');\n",
              "var x = new MutationObserver(function (mutations, observer) {{\n",
              "        var display = window.getComputedStyle(gd).display;\n",
              "        if (!display || display === 'none') {{\n",
              "            console.log([gd, 'removed!']);\n",
              "            Plotly.purge(gd);\n",
              "            observer.disconnect();\n",
              "        }}\n",
              "}});\n",
              "\n",
              "// Listen for the removal of the full notebook cells\n",
              "var notebookContainer = gd.closest('#notebook-container');\n",
              "if (notebookContainer) {{\n",
              "    x.observe(notebookContainer, {childList: true});\n",
              "}}\n",
              "\n",
              "// Listen for the clearing of the current output cell\n",
              "var outputEl = gd.closest('.output');\n",
              "if (outputEl) {{\n",
              "    x.observe(outputEl, {childList: true});\n",
              "}}\n",
              "\n",
              "                        })\n",
              "                };\n",
              "                \n",
              "            </script>\n",
              "        </div>\n",
              "</body>\n",
              "</html>"
            ]
          },
          "metadata": {
            "tags": []
          }
        }
      ]
    },
    {
      "cell_type": "code",
      "metadata": {
        "colab": {
          "base_uri": "https://localhost:8080/",
          "height": 542
        },
        "id": "oj-mASK57p66",
        "outputId": "1212c690-64fc-4864-d1d3-b367e5ba77e3"
      },
      "source": [
        "fig = px.bar(df_mean_bc, x='index', y='Mean', color='Condition', barmode='group', log_y=False)\n",
        "fig.show()"
      ],
      "execution_count": 25,
      "outputs": [
        {
          "output_type": "display_data",
          "data": {
            "text/html": [
              "<html>\n",
              "<head><meta charset=\"utf-8\" /></head>\n",
              "<body>\n",
              "    <div>\n",
              "            <script src=\"https://cdnjs.cloudflare.com/ajax/libs/mathjax/2.7.5/MathJax.js?config=TeX-AMS-MML_SVG\"></script><script type=\"text/javascript\">if (window.MathJax) {MathJax.Hub.Config({SVG: {font: \"STIX-Web\"}});}</script>\n",
              "                <script type=\"text/javascript\">window.PlotlyConfig = {MathJaxConfig: 'local'};</script>\n",
              "        <script src=\"https://cdn.plot.ly/plotly-latest.min.js\"></script>    \n",
              "            <div id=\"ebb90746-fe83-4c37-9be6-834dec89cea3\" class=\"plotly-graph-div\" style=\"height:525px; width:100%;\"></div>\n",
              "            <script type=\"text/javascript\">\n",
              "                \n",
              "                    window.PLOTLYENV=window.PLOTLYENV || {};\n",
              "                    \n",
              "                if (document.getElementById(\"ebb90746-fe83-4c37-9be6-834dec89cea3\")) {\n",
              "                    Plotly.newPlot(\n",
              "                        'ebb90746-fe83-4c37-9be6-834dec89cea3',\n",
              "                        [{\"alignmentgroup\": \"True\", \"hoverlabel\": {\"namelength\": 0}, \"hovertemplate\": \"Condition=healthy<br>index=%{x}<br>Mean=%{y}\", \"legendgroup\": \"Condition=healthy\", \"marker\": {\"color\": \"#636efa\"}, \"name\": \"Condition=healthy\", \"offsetgroup\": \"Condition=healthy\", \"orientation\": \"v\", \"showlegend\": true, \"textposition\": \"auto\", \"type\": \"bar\", \"x\": [\"Cerebelum_3_R\", \"Cerebelum_6_R\", \"Cerebelum_Crus1_R\", \"Cerebelum_8_R\", \"Cerebelum_Crus1_L\", \"Cerebelum_9_R\", \"Cerebelum_Crus2_L\", \"Cerebelum_8_L\", \"Cerebelum_6_L\", \"Cerebelum_Crus2_R\", \"Cerebelum_7b_R\", \"Cerebelum_9_L\", \"Cerebelum_4_5_L\", \"Cerebelum_3_L\", \"Cerebelum_7b_L\", \"Cerebelum_4_5_R\", \"Cerebelum_10_R\", \"Cerebelum_10_L\"], \"xaxis\": \"x\", \"y\": [0.06984200619876488, 0.061808332812684975, 0.05058314324727065, 0.049052146681345256, 0.046688895338794466, 0.04628686079937427, 0.044566864949180274, 0.04333483248172343, 0.043214293294386336, 0.04258574907437757, 0.04233515562363432, 0.041300877936622654, 0.036684356159300734, 0.033568368191928336, 0.033441275301261016, 0.030492043569855572, 0.030252058183180667, 0.02690663993844966], \"yaxis\": \"y\"}, {\"alignmentgroup\": \"True\", \"hoverlabel\": {\"namelength\": 0}, \"hovertemplate\": \"Condition=dislexic<br>index=%{x}<br>Mean=%{y}\", \"legendgroup\": \"Condition=dislexic\", \"marker\": {\"color\": \"#EF553B\"}, \"name\": \"Condition=dislexic\", \"offsetgroup\": \"Condition=dislexic\", \"orientation\": \"v\", \"showlegend\": true, \"textposition\": \"auto\", \"type\": \"bar\", \"x\": [\"Cerebelum_9_L\", \"Cerebelum_4_5_L\", \"Cerebelum_Crus1_L\", \"Cerebelum_4_5_R\", \"Cerebelum_6_L\", \"Cerebelum_8_R\", \"Cerebelum_6_R\", \"Cerebelum_Crus2_L\", \"Cerebelum_Crus2_R\", \"Cerebelum_3_L\", \"Cerebelum_7b_L\", \"Cerebelum_8_L\", \"Cerebelum_10_R\", \"Cerebelum_3_R\", \"Cerebelum_7b_R\", \"Cerebelum_Crus1_R\", \"Cerebelum_10_L\", \"Cerebelum_9_R\"], \"xaxis\": \"x\", \"y\": [0.052861059818694205, 0.04998497951847051, 0.04960121255921456, 0.0494799006868246, 0.04598302840022161, 0.045827144010423676, 0.0458202208082715, 0.0442717918197928, 0.0440999616271046, 0.04299512246009923, 0.04224015676512301, 0.041218395471497214, 0.0387882689452893, 0.036822973724338924, 0.03648994910360675, 0.0358089087432839, 0.035089290669854896, 0.0326339747371697], \"yaxis\": \"y\"}],\n",
              "                        {\"barmode\": \"group\", \"legend\": {\"tracegroupgap\": 0}, \"margin\": {\"t\": 60}, \"template\": {\"data\": {\"bar\": [{\"error_x\": {\"color\": \"#2a3f5f\"}, \"error_y\": {\"color\": \"#2a3f5f\"}, \"marker\": {\"line\": {\"color\": \"#E5ECF6\", \"width\": 0.5}}, \"type\": \"bar\"}], \"barpolar\": [{\"marker\": {\"line\": {\"color\": \"#E5ECF6\", \"width\": 0.5}}, \"type\": \"barpolar\"}], \"carpet\": [{\"aaxis\": {\"endlinecolor\": \"#2a3f5f\", \"gridcolor\": \"white\", \"linecolor\": \"white\", \"minorgridcolor\": \"white\", \"startlinecolor\": \"#2a3f5f\"}, \"baxis\": {\"endlinecolor\": \"#2a3f5f\", \"gridcolor\": \"white\", \"linecolor\": \"white\", \"minorgridcolor\": \"white\", \"startlinecolor\": \"#2a3f5f\"}, \"type\": \"carpet\"}], \"choropleth\": [{\"colorbar\": {\"outlinewidth\": 0, \"ticks\": \"\"}, \"type\": \"choropleth\"}], \"contour\": [{\"colorbar\": {\"outlinewidth\": 0, \"ticks\": \"\"}, \"colorscale\": [[0.0, \"#0d0887\"], [0.1111111111111111, \"#46039f\"], [0.2222222222222222, \"#7201a8\"], [0.3333333333333333, \"#9c179e\"], [0.4444444444444444, \"#bd3786\"], [0.5555555555555556, \"#d8576b\"], [0.6666666666666666, \"#ed7953\"], [0.7777777777777778, \"#fb9f3a\"], [0.8888888888888888, \"#fdca26\"], [1.0, \"#f0f921\"]], \"type\": \"contour\"}], \"contourcarpet\": [{\"colorbar\": {\"outlinewidth\": 0, \"ticks\": \"\"}, \"type\": \"contourcarpet\"}], \"heatmap\": [{\"colorbar\": {\"outlinewidth\": 0, \"ticks\": \"\"}, \"colorscale\": [[0.0, \"#0d0887\"], [0.1111111111111111, \"#46039f\"], [0.2222222222222222, \"#7201a8\"], [0.3333333333333333, \"#9c179e\"], [0.4444444444444444, \"#bd3786\"], [0.5555555555555556, \"#d8576b\"], [0.6666666666666666, \"#ed7953\"], [0.7777777777777778, \"#fb9f3a\"], [0.8888888888888888, \"#fdca26\"], [1.0, \"#f0f921\"]], \"type\": \"heatmap\"}], \"heatmapgl\": [{\"colorbar\": {\"outlinewidth\": 0, \"ticks\": \"\"}, \"colorscale\": [[0.0, \"#0d0887\"], [0.1111111111111111, \"#46039f\"], [0.2222222222222222, \"#7201a8\"], [0.3333333333333333, \"#9c179e\"], [0.4444444444444444, \"#bd3786\"], [0.5555555555555556, \"#d8576b\"], [0.6666666666666666, \"#ed7953\"], [0.7777777777777778, \"#fb9f3a\"], [0.8888888888888888, \"#fdca26\"], [1.0, \"#f0f921\"]], \"type\": \"heatmapgl\"}], \"histogram\": [{\"marker\": {\"colorbar\": {\"outlinewidth\": 0, \"ticks\": \"\"}}, \"type\": \"histogram\"}], \"histogram2d\": [{\"colorbar\": {\"outlinewidth\": 0, \"ticks\": \"\"}, \"colorscale\": [[0.0, \"#0d0887\"], [0.1111111111111111, \"#46039f\"], [0.2222222222222222, \"#7201a8\"], [0.3333333333333333, \"#9c179e\"], [0.4444444444444444, \"#bd3786\"], [0.5555555555555556, \"#d8576b\"], [0.6666666666666666, \"#ed7953\"], [0.7777777777777778, \"#fb9f3a\"], [0.8888888888888888, \"#fdca26\"], [1.0, \"#f0f921\"]], \"type\": \"histogram2d\"}], \"histogram2dcontour\": [{\"colorbar\": {\"outlinewidth\": 0, \"ticks\": \"\"}, \"colorscale\": [[0.0, \"#0d0887\"], [0.1111111111111111, \"#46039f\"], [0.2222222222222222, \"#7201a8\"], [0.3333333333333333, \"#9c179e\"], [0.4444444444444444, \"#bd3786\"], [0.5555555555555556, \"#d8576b\"], [0.6666666666666666, \"#ed7953\"], [0.7777777777777778, \"#fb9f3a\"], [0.8888888888888888, \"#fdca26\"], [1.0, \"#f0f921\"]], \"type\": \"histogram2dcontour\"}], \"mesh3d\": [{\"colorbar\": {\"outlinewidth\": 0, \"ticks\": \"\"}, \"type\": \"mesh3d\"}], \"parcoords\": [{\"line\": {\"colorbar\": {\"outlinewidth\": 0, \"ticks\": \"\"}}, \"type\": \"parcoords\"}], \"pie\": [{\"automargin\": true, \"type\": \"pie\"}], \"scatter\": [{\"marker\": {\"colorbar\": {\"outlinewidth\": 0, \"ticks\": \"\"}}, \"type\": \"scatter\"}], \"scatter3d\": [{\"line\": {\"colorbar\": {\"outlinewidth\": 0, \"ticks\": \"\"}}, \"marker\": {\"colorbar\": {\"outlinewidth\": 0, \"ticks\": \"\"}}, \"type\": \"scatter3d\"}], \"scattercarpet\": [{\"marker\": {\"colorbar\": {\"outlinewidth\": 0, \"ticks\": \"\"}}, \"type\": \"scattercarpet\"}], \"scattergeo\": [{\"marker\": {\"colorbar\": {\"outlinewidth\": 0, \"ticks\": \"\"}}, \"type\": \"scattergeo\"}], \"scattergl\": [{\"marker\": {\"colorbar\": {\"outlinewidth\": 0, \"ticks\": \"\"}}, \"type\": \"scattergl\"}], \"scattermapbox\": [{\"marker\": {\"colorbar\": {\"outlinewidth\": 0, \"ticks\": \"\"}}, \"type\": \"scattermapbox\"}], \"scatterpolar\": [{\"marker\": {\"colorbar\": {\"outlinewidth\": 0, \"ticks\": \"\"}}, \"type\": \"scatterpolar\"}], \"scatterpolargl\": [{\"marker\": {\"colorbar\": {\"outlinewidth\": 0, \"ticks\": \"\"}}, \"type\": \"scatterpolargl\"}], \"scatterternary\": [{\"marker\": {\"colorbar\": {\"outlinewidth\": 0, \"ticks\": \"\"}}, \"type\": \"scatterternary\"}], \"surface\": [{\"colorbar\": {\"outlinewidth\": 0, \"ticks\": \"\"}, \"colorscale\": [[0.0, \"#0d0887\"], [0.1111111111111111, \"#46039f\"], [0.2222222222222222, \"#7201a8\"], [0.3333333333333333, \"#9c179e\"], [0.4444444444444444, \"#bd3786\"], [0.5555555555555556, \"#d8576b\"], [0.6666666666666666, \"#ed7953\"], [0.7777777777777778, \"#fb9f3a\"], [0.8888888888888888, \"#fdca26\"], [1.0, \"#f0f921\"]], \"type\": \"surface\"}], \"table\": [{\"cells\": {\"fill\": {\"color\": \"#EBF0F8\"}, \"line\": {\"color\": \"white\"}}, \"header\": {\"fill\": {\"color\": \"#C8D4E3\"}, \"line\": {\"color\": \"white\"}}, \"type\": \"table\"}]}, \"layout\": {\"annotationdefaults\": {\"arrowcolor\": \"#2a3f5f\", \"arrowhead\": 0, \"arrowwidth\": 1}, \"coloraxis\": {\"colorbar\": {\"outlinewidth\": 0, \"ticks\": \"\"}}, \"colorscale\": {\"diverging\": [[0, \"#8e0152\"], [0.1, \"#c51b7d\"], [0.2, \"#de77ae\"], [0.3, \"#f1b6da\"], [0.4, \"#fde0ef\"], [0.5, \"#f7f7f7\"], [0.6, \"#e6f5d0\"], [0.7, \"#b8e186\"], [0.8, \"#7fbc41\"], [0.9, \"#4d9221\"], [1, \"#276419\"]], \"sequential\": [[0.0, \"#0d0887\"], [0.1111111111111111, \"#46039f\"], [0.2222222222222222, \"#7201a8\"], [0.3333333333333333, \"#9c179e\"], [0.4444444444444444, \"#bd3786\"], [0.5555555555555556, \"#d8576b\"], [0.6666666666666666, \"#ed7953\"], [0.7777777777777778, \"#fb9f3a\"], [0.8888888888888888, \"#fdca26\"], [1.0, \"#f0f921\"]], \"sequentialminus\": [[0.0, \"#0d0887\"], [0.1111111111111111, \"#46039f\"], [0.2222222222222222, \"#7201a8\"], [0.3333333333333333, \"#9c179e\"], [0.4444444444444444, \"#bd3786\"], [0.5555555555555556, \"#d8576b\"], [0.6666666666666666, \"#ed7953\"], [0.7777777777777778, \"#fb9f3a\"], [0.8888888888888888, \"#fdca26\"], [1.0, \"#f0f921\"]]}, \"colorway\": [\"#636efa\", \"#EF553B\", \"#00cc96\", \"#ab63fa\", \"#FFA15A\", \"#19d3f3\", \"#FF6692\", \"#B6E880\", \"#FF97FF\", \"#FECB52\"], \"font\": {\"color\": \"#2a3f5f\"}, \"geo\": {\"bgcolor\": \"white\", \"lakecolor\": \"white\", \"landcolor\": \"#E5ECF6\", \"showlakes\": true, \"showland\": true, \"subunitcolor\": \"white\"}, \"hoverlabel\": {\"align\": \"left\"}, \"hovermode\": \"closest\", \"mapbox\": {\"style\": \"light\"}, \"paper_bgcolor\": \"white\", \"plot_bgcolor\": \"#E5ECF6\", \"polar\": {\"angularaxis\": {\"gridcolor\": \"white\", \"linecolor\": \"white\", \"ticks\": \"\"}, \"bgcolor\": \"#E5ECF6\", \"radialaxis\": {\"gridcolor\": \"white\", \"linecolor\": \"white\", \"ticks\": \"\"}}, \"scene\": {\"xaxis\": {\"backgroundcolor\": \"#E5ECF6\", \"gridcolor\": \"white\", \"gridwidth\": 2, \"linecolor\": \"white\", \"showbackground\": true, \"ticks\": \"\", \"zerolinecolor\": \"white\"}, \"yaxis\": {\"backgroundcolor\": \"#E5ECF6\", \"gridcolor\": \"white\", \"gridwidth\": 2, \"linecolor\": \"white\", \"showbackground\": true, \"ticks\": \"\", \"zerolinecolor\": \"white\"}, \"zaxis\": {\"backgroundcolor\": \"#E5ECF6\", \"gridcolor\": \"white\", \"gridwidth\": 2, \"linecolor\": \"white\", \"showbackground\": true, \"ticks\": \"\", \"zerolinecolor\": \"white\"}}, \"shapedefaults\": {\"line\": {\"color\": \"#2a3f5f\"}}, \"ternary\": {\"aaxis\": {\"gridcolor\": \"white\", \"linecolor\": \"white\", \"ticks\": \"\"}, \"baxis\": {\"gridcolor\": \"white\", \"linecolor\": \"white\", \"ticks\": \"\"}, \"bgcolor\": \"#E5ECF6\", \"caxis\": {\"gridcolor\": \"white\", \"linecolor\": \"white\", \"ticks\": \"\"}}, \"title\": {\"x\": 0.05}, \"xaxis\": {\"automargin\": true, \"gridcolor\": \"white\", \"linecolor\": \"white\", \"ticks\": \"\", \"title\": {\"standoff\": 15}, \"zerolinecolor\": \"white\", \"zerolinewidth\": 2}, \"yaxis\": {\"automargin\": true, \"gridcolor\": \"white\", \"linecolor\": \"white\", \"ticks\": \"\", \"title\": {\"standoff\": 15}, \"zerolinecolor\": \"white\", \"zerolinewidth\": 2}}}, \"xaxis\": {\"anchor\": \"y\", \"domain\": [0.0, 1.0], \"title\": {\"text\": \"index\"}}, \"yaxis\": {\"anchor\": \"x\", \"domain\": [0.0, 1.0], \"title\": {\"text\": \"Mean\"}}},\n",
              "                        {\"responsive\": true}\n",
              "                    ).then(function(){\n",
              "                            \n",
              "var gd = document.getElementById('ebb90746-fe83-4c37-9be6-834dec89cea3');\n",
              "var x = new MutationObserver(function (mutations, observer) {{\n",
              "        var display = window.getComputedStyle(gd).display;\n",
              "        if (!display || display === 'none') {{\n",
              "            console.log([gd, 'removed!']);\n",
              "            Plotly.purge(gd);\n",
              "            observer.disconnect();\n",
              "        }}\n",
              "}});\n",
              "\n",
              "// Listen for the removal of the full notebook cells\n",
              "var notebookContainer = gd.closest('#notebook-container');\n",
              "if (notebookContainer) {{\n",
              "    x.observe(notebookContainer, {childList: true});\n",
              "}}\n",
              "\n",
              "// Listen for the clearing of the current output cell\n",
              "var outputEl = gd.closest('.output');\n",
              "if (outputEl) {{\n",
              "    x.observe(outputEl, {childList: true});\n",
              "}}\n",
              "\n",
              "                        })\n",
              "                };\n",
              "                \n",
              "            </script>\n",
              "        </div>\n",
              "</body>\n",
              "</html>"
            ]
          },
          "metadata": {
            "tags": []
          }
        }
      ]
    },
    {
      "cell_type": "code",
      "metadata": {
        "colab": {
          "base_uri": "https://localhost:8080/",
          "height": 542
        },
        "id": "9iiNwQTuSPtj",
        "outputId": "b4ba0140-28f5-4089-cc82-fab17a5788fa"
      },
      "source": [
        "fig = px.bar(df_mean_cc, x='index', y='Mean', color='Condition', barmode='group', log_y=True)\n",
        "fig.show()"
      ],
      "execution_count": 26,
      "outputs": [
        {
          "output_type": "display_data",
          "data": {
            "text/html": [
              "<html>\n",
              "<head><meta charset=\"utf-8\" /></head>\n",
              "<body>\n",
              "    <div>\n",
              "            <script src=\"https://cdnjs.cloudflare.com/ajax/libs/mathjax/2.7.5/MathJax.js?config=TeX-AMS-MML_SVG\"></script><script type=\"text/javascript\">if (window.MathJax) {MathJax.Hub.Config({SVG: {font: \"STIX-Web\"}});}</script>\n",
              "                <script type=\"text/javascript\">window.PlotlyConfig = {MathJaxConfig: 'local'};</script>\n",
              "        <script src=\"https://cdn.plot.ly/plotly-latest.min.js\"></script>    \n",
              "            <div id=\"eb0959c5-72d2-4052-ac35-f4a5b103155a\" class=\"plotly-graph-div\" style=\"height:525px; width:100%;\"></div>\n",
              "            <script type=\"text/javascript\">\n",
              "                \n",
              "                    window.PLOTLYENV=window.PLOTLYENV || {};\n",
              "                    \n",
              "                if (document.getElementById(\"eb0959c5-72d2-4052-ac35-f4a5b103155a\")) {\n",
              "                    Plotly.newPlot(\n",
              "                        'eb0959c5-72d2-4052-ac35-f4a5b103155a',\n",
              "                        [{\"alignmentgroup\": \"True\", \"hoverlabel\": {\"namelength\": 0}, \"hovertemplate\": \"Condition=dislexic<br>index=%{x}<br>Mean=%{y}\", \"legendgroup\": \"Condition=dislexic\", \"marker\": {\"color\": \"#636efa\"}, \"name\": \"Condition=dislexic\", \"offsetgroup\": \"Condition=dislexic\", \"orientation\": \"v\", \"showlegend\": true, \"textposition\": \"auto\", \"type\": \"bar\", \"x\": [\"Cerebelum_9_L\", \"Cerebelum_8_R\", \"Cerebelum_4_5_L\", \"Cerebelum_Crus1_L\", \"Cerebelum_4_5_R\", \"Cerebelum_6_L\", \"Cerebelum_10_R\", \"Cerebelum_7b_L\", \"Cerebelum_Crus2_R\", \"Cerebelum_6_R\", \"Cerebelum_8_L\", \"Cerebelum_Crus2_L\", \"Cerebelum_3_L\", \"Cerebelum_3_R\", \"Cerebelum_Crus1_R\", \"Cerebelum_10_L\", \"Cerebelum_9_R\", \"Cerebelum_7b_R\"], \"xaxis\": \"x\", \"y\": [0.6148969166210546, 0.610549692254673, 0.6092352618731466, 0.6075147885051635, 0.6003545198947499, 0.5996322312476063, 0.5992245209558427, 0.5990488061492882, 0.596923011961326, 0.5968263324585164, 0.5946552971019972, 0.5935252693675632, 0.5913268638641739, 0.5907411507090162, 0.5865461713943051, 0.5843764297014822, 0.581404309655221, 0.5809331014253921], \"yaxis\": \"y\"}, {\"alignmentgroup\": \"True\", \"hoverlabel\": {\"namelength\": 0}, \"hovertemplate\": \"Condition=healthy<br>index=%{x}<br>Mean=%{y}\", \"legendgroup\": \"Condition=healthy\", \"marker\": {\"color\": \"#EF553B\"}, \"name\": \"Condition=healthy\", \"offsetgroup\": \"Condition=healthy\", \"orientation\": \"v\", \"showlegend\": true, \"textposition\": \"auto\", \"type\": \"bar\", \"x\": [\"Cerebelum_3_R\", \"Cerebelum_Crus1_R\", \"Cerebelum_8_L\", \"Cerebelum_9_L\", \"Cerebelum_Crus1_L\", \"Cerebelum_6_R\", \"Cerebelum_8_R\", \"Cerebelum_Crus2_L\", \"Cerebelum_6_L\", \"Cerebelum_9_R\", \"Cerebelum_4_5_L\", \"Cerebelum_Crus2_R\", \"Cerebelum_3_L\", \"Cerebelum_4_5_R\", \"Cerebelum_7b_R\", \"Cerebelum_7b_L\", \"Cerebelum_10_R\", \"Cerebelum_10_L\"], \"xaxis\": \"x\", \"y\": [0.5876575996619743, 0.5718836678725011, 0.5640827786534254, 0.5639469884377761, 0.5635358738242761, 0.5624549560407122, 0.5592309126538387, 0.5573633034142782, 0.5558127331407858, 0.5506255534728014, 0.5504437096594482, 0.549943673513223, 0.5436689716455246, 0.5321909991203714, 0.49268307422345603, 0.4854669998328848, 0.4780687512679463, 0.4588453009193132], \"yaxis\": \"y\"}],\n",
              "                        {\"barmode\": \"group\", \"legend\": {\"tracegroupgap\": 0}, \"margin\": {\"t\": 60}, \"template\": {\"data\": {\"bar\": [{\"error_x\": {\"color\": \"#2a3f5f\"}, \"error_y\": {\"color\": \"#2a3f5f\"}, \"marker\": {\"line\": {\"color\": \"#E5ECF6\", \"width\": 0.5}}, \"type\": \"bar\"}], \"barpolar\": [{\"marker\": {\"line\": {\"color\": \"#E5ECF6\", \"width\": 0.5}}, \"type\": \"barpolar\"}], \"carpet\": [{\"aaxis\": {\"endlinecolor\": \"#2a3f5f\", \"gridcolor\": \"white\", \"linecolor\": \"white\", \"minorgridcolor\": \"white\", \"startlinecolor\": \"#2a3f5f\"}, \"baxis\": {\"endlinecolor\": \"#2a3f5f\", \"gridcolor\": \"white\", \"linecolor\": \"white\", \"minorgridcolor\": \"white\", \"startlinecolor\": \"#2a3f5f\"}, \"type\": \"carpet\"}], \"choropleth\": [{\"colorbar\": {\"outlinewidth\": 0, \"ticks\": \"\"}, \"type\": \"choropleth\"}], \"contour\": [{\"colorbar\": {\"outlinewidth\": 0, \"ticks\": \"\"}, \"colorscale\": [[0.0, \"#0d0887\"], [0.1111111111111111, \"#46039f\"], [0.2222222222222222, \"#7201a8\"], [0.3333333333333333, \"#9c179e\"], [0.4444444444444444, \"#bd3786\"], [0.5555555555555556, \"#d8576b\"], [0.6666666666666666, \"#ed7953\"], [0.7777777777777778, \"#fb9f3a\"], [0.8888888888888888, \"#fdca26\"], [1.0, \"#f0f921\"]], \"type\": \"contour\"}], \"contourcarpet\": [{\"colorbar\": {\"outlinewidth\": 0, \"ticks\": \"\"}, \"type\": \"contourcarpet\"}], \"heatmap\": [{\"colorbar\": {\"outlinewidth\": 0, \"ticks\": \"\"}, \"colorscale\": [[0.0, \"#0d0887\"], [0.1111111111111111, \"#46039f\"], [0.2222222222222222, \"#7201a8\"], [0.3333333333333333, \"#9c179e\"], [0.4444444444444444, \"#bd3786\"], [0.5555555555555556, \"#d8576b\"], [0.6666666666666666, \"#ed7953\"], [0.7777777777777778, \"#fb9f3a\"], [0.8888888888888888, \"#fdca26\"], [1.0, \"#f0f921\"]], \"type\": \"heatmap\"}], \"heatmapgl\": [{\"colorbar\": {\"outlinewidth\": 0, \"ticks\": \"\"}, \"colorscale\": [[0.0, \"#0d0887\"], [0.1111111111111111, \"#46039f\"], [0.2222222222222222, \"#7201a8\"], [0.3333333333333333, \"#9c179e\"], [0.4444444444444444, \"#bd3786\"], [0.5555555555555556, \"#d8576b\"], [0.6666666666666666, \"#ed7953\"], [0.7777777777777778, \"#fb9f3a\"], [0.8888888888888888, \"#fdca26\"], [1.0, \"#f0f921\"]], \"type\": \"heatmapgl\"}], \"histogram\": [{\"marker\": {\"colorbar\": {\"outlinewidth\": 0, \"ticks\": \"\"}}, \"type\": \"histogram\"}], \"histogram2d\": [{\"colorbar\": {\"outlinewidth\": 0, \"ticks\": \"\"}, \"colorscale\": [[0.0, \"#0d0887\"], [0.1111111111111111, \"#46039f\"], [0.2222222222222222, \"#7201a8\"], [0.3333333333333333, \"#9c179e\"], [0.4444444444444444, \"#bd3786\"], [0.5555555555555556, \"#d8576b\"], [0.6666666666666666, \"#ed7953\"], [0.7777777777777778, \"#fb9f3a\"], [0.8888888888888888, \"#fdca26\"], [1.0, \"#f0f921\"]], \"type\": \"histogram2d\"}], \"histogram2dcontour\": [{\"colorbar\": {\"outlinewidth\": 0, \"ticks\": \"\"}, \"colorscale\": [[0.0, \"#0d0887\"], [0.1111111111111111, \"#46039f\"], [0.2222222222222222, \"#7201a8\"], [0.3333333333333333, \"#9c179e\"], [0.4444444444444444, \"#bd3786\"], [0.5555555555555556, \"#d8576b\"], [0.6666666666666666, \"#ed7953\"], [0.7777777777777778, \"#fb9f3a\"], [0.8888888888888888, \"#fdca26\"], [1.0, \"#f0f921\"]], \"type\": \"histogram2dcontour\"}], \"mesh3d\": [{\"colorbar\": {\"outlinewidth\": 0, \"ticks\": \"\"}, \"type\": \"mesh3d\"}], \"parcoords\": [{\"line\": {\"colorbar\": {\"outlinewidth\": 0, \"ticks\": \"\"}}, \"type\": \"parcoords\"}], \"pie\": [{\"automargin\": true, \"type\": \"pie\"}], \"scatter\": [{\"marker\": {\"colorbar\": {\"outlinewidth\": 0, \"ticks\": \"\"}}, \"type\": \"scatter\"}], \"scatter3d\": [{\"line\": {\"colorbar\": {\"outlinewidth\": 0, \"ticks\": \"\"}}, \"marker\": {\"colorbar\": {\"outlinewidth\": 0, \"ticks\": \"\"}}, \"type\": \"scatter3d\"}], \"scattercarpet\": [{\"marker\": {\"colorbar\": {\"outlinewidth\": 0, \"ticks\": \"\"}}, \"type\": \"scattercarpet\"}], \"scattergeo\": [{\"marker\": {\"colorbar\": {\"outlinewidth\": 0, \"ticks\": \"\"}}, \"type\": \"scattergeo\"}], \"scattergl\": [{\"marker\": {\"colorbar\": {\"outlinewidth\": 0, \"ticks\": \"\"}}, \"type\": \"scattergl\"}], \"scattermapbox\": [{\"marker\": {\"colorbar\": {\"outlinewidth\": 0, \"ticks\": \"\"}}, \"type\": \"scattermapbox\"}], \"scatterpolar\": [{\"marker\": {\"colorbar\": {\"outlinewidth\": 0, \"ticks\": \"\"}}, \"type\": \"scatterpolar\"}], \"scatterpolargl\": [{\"marker\": {\"colorbar\": {\"outlinewidth\": 0, \"ticks\": \"\"}}, \"type\": \"scatterpolargl\"}], \"scatterternary\": [{\"marker\": {\"colorbar\": {\"outlinewidth\": 0, \"ticks\": \"\"}}, \"type\": \"scatterternary\"}], \"surface\": [{\"colorbar\": {\"outlinewidth\": 0, \"ticks\": \"\"}, \"colorscale\": [[0.0, \"#0d0887\"], [0.1111111111111111, \"#46039f\"], [0.2222222222222222, \"#7201a8\"], [0.3333333333333333, \"#9c179e\"], [0.4444444444444444, \"#bd3786\"], [0.5555555555555556, \"#d8576b\"], [0.6666666666666666, \"#ed7953\"], [0.7777777777777778, \"#fb9f3a\"], [0.8888888888888888, \"#fdca26\"], [1.0, \"#f0f921\"]], \"type\": \"surface\"}], \"table\": [{\"cells\": {\"fill\": {\"color\": \"#EBF0F8\"}, \"line\": {\"color\": \"white\"}}, \"header\": {\"fill\": {\"color\": \"#C8D4E3\"}, \"line\": {\"color\": \"white\"}}, \"type\": \"table\"}]}, \"layout\": {\"annotationdefaults\": {\"arrowcolor\": \"#2a3f5f\", \"arrowhead\": 0, \"arrowwidth\": 1}, \"coloraxis\": {\"colorbar\": {\"outlinewidth\": 0, \"ticks\": \"\"}}, \"colorscale\": {\"diverging\": [[0, \"#8e0152\"], [0.1, \"#c51b7d\"], [0.2, \"#de77ae\"], [0.3, \"#f1b6da\"], [0.4, \"#fde0ef\"], [0.5, \"#f7f7f7\"], [0.6, \"#e6f5d0\"], [0.7, \"#b8e186\"], [0.8, \"#7fbc41\"], [0.9, \"#4d9221\"], [1, \"#276419\"]], \"sequential\": [[0.0, \"#0d0887\"], [0.1111111111111111, \"#46039f\"], [0.2222222222222222, \"#7201a8\"], [0.3333333333333333, \"#9c179e\"], [0.4444444444444444, \"#bd3786\"], [0.5555555555555556, \"#d8576b\"], [0.6666666666666666, \"#ed7953\"], [0.7777777777777778, \"#fb9f3a\"], [0.8888888888888888, \"#fdca26\"], [1.0, \"#f0f921\"]], \"sequentialminus\": [[0.0, \"#0d0887\"], [0.1111111111111111, \"#46039f\"], [0.2222222222222222, \"#7201a8\"], [0.3333333333333333, \"#9c179e\"], [0.4444444444444444, \"#bd3786\"], [0.5555555555555556, \"#d8576b\"], [0.6666666666666666, \"#ed7953\"], [0.7777777777777778, \"#fb9f3a\"], [0.8888888888888888, \"#fdca26\"], [1.0, \"#f0f921\"]]}, \"colorway\": [\"#636efa\", \"#EF553B\", \"#00cc96\", \"#ab63fa\", \"#FFA15A\", \"#19d3f3\", \"#FF6692\", \"#B6E880\", \"#FF97FF\", \"#FECB52\"], \"font\": {\"color\": \"#2a3f5f\"}, \"geo\": {\"bgcolor\": \"white\", \"lakecolor\": \"white\", \"landcolor\": \"#E5ECF6\", \"showlakes\": true, \"showland\": true, \"subunitcolor\": \"white\"}, \"hoverlabel\": {\"align\": \"left\"}, \"hovermode\": \"closest\", \"mapbox\": {\"style\": \"light\"}, \"paper_bgcolor\": \"white\", \"plot_bgcolor\": \"#E5ECF6\", \"polar\": {\"angularaxis\": {\"gridcolor\": \"white\", \"linecolor\": \"white\", \"ticks\": \"\"}, \"bgcolor\": \"#E5ECF6\", \"radialaxis\": {\"gridcolor\": \"white\", \"linecolor\": \"white\", \"ticks\": \"\"}}, \"scene\": {\"xaxis\": {\"backgroundcolor\": \"#E5ECF6\", \"gridcolor\": \"white\", \"gridwidth\": 2, \"linecolor\": \"white\", \"showbackground\": true, \"ticks\": \"\", \"zerolinecolor\": \"white\"}, \"yaxis\": {\"backgroundcolor\": \"#E5ECF6\", \"gridcolor\": \"white\", \"gridwidth\": 2, \"linecolor\": \"white\", \"showbackground\": true, \"ticks\": \"\", \"zerolinecolor\": \"white\"}, \"zaxis\": {\"backgroundcolor\": \"#E5ECF6\", \"gridcolor\": \"white\", \"gridwidth\": 2, \"linecolor\": \"white\", \"showbackground\": true, \"ticks\": \"\", \"zerolinecolor\": \"white\"}}, \"shapedefaults\": {\"line\": {\"color\": \"#2a3f5f\"}}, \"ternary\": {\"aaxis\": {\"gridcolor\": \"white\", \"linecolor\": \"white\", \"ticks\": \"\"}, \"baxis\": {\"gridcolor\": \"white\", \"linecolor\": \"white\", \"ticks\": \"\"}, \"bgcolor\": \"#E5ECF6\", \"caxis\": {\"gridcolor\": \"white\", \"linecolor\": \"white\", \"ticks\": \"\"}}, \"title\": {\"x\": 0.05}, \"xaxis\": {\"automargin\": true, \"gridcolor\": \"white\", \"linecolor\": \"white\", \"ticks\": \"\", \"title\": {\"standoff\": 15}, \"zerolinecolor\": \"white\", \"zerolinewidth\": 2}, \"yaxis\": {\"automargin\": true, \"gridcolor\": \"white\", \"linecolor\": \"white\", \"ticks\": \"\", \"title\": {\"standoff\": 15}, \"zerolinecolor\": \"white\", \"zerolinewidth\": 2}}}, \"xaxis\": {\"anchor\": \"y\", \"domain\": [0.0, 1.0], \"title\": {\"text\": \"index\"}}, \"yaxis\": {\"anchor\": \"x\", \"domain\": [0.0, 1.0], \"title\": {\"text\": \"Mean\"}, \"type\": \"log\"}},\n",
              "                        {\"responsive\": true}\n",
              "                    ).then(function(){\n",
              "                            \n",
              "var gd = document.getElementById('eb0959c5-72d2-4052-ac35-f4a5b103155a');\n",
              "var x = new MutationObserver(function (mutations, observer) {{\n",
              "        var display = window.getComputedStyle(gd).display;\n",
              "        if (!display || display === 'none') {{\n",
              "            console.log([gd, 'removed!']);\n",
              "            Plotly.purge(gd);\n",
              "            observer.disconnect();\n",
              "        }}\n",
              "}});\n",
              "\n",
              "// Listen for the removal of the full notebook cells\n",
              "var notebookContainer = gd.closest('#notebook-container');\n",
              "if (notebookContainer) {{\n",
              "    x.observe(notebookContainer, {childList: true});\n",
              "}}\n",
              "\n",
              "// Listen for the clearing of the current output cell\n",
              "var outputEl = gd.closest('.output');\n",
              "if (outputEl) {{\n",
              "    x.observe(outputEl, {childList: true});\n",
              "}}\n",
              "\n",
              "                        })\n",
              "                };\n",
              "                \n",
              "            </script>\n",
              "        </div>\n",
              "</body>\n",
              "</html>"
            ]
          },
          "metadata": {
            "tags": []
          }
        }
      ]
    },
    {
      "cell_type": "markdown",
      "metadata": {
        "id": "-5ZQQ9i8ZwPR"
      },
      "source": [
        "# Testing"
      ]
    },
    {
      "cell_type": "code",
      "metadata": {
        "colab": {
          "base_uri": "https://localhost:8080/"
        },
        "id": "2Zr1TH3_Zuw8",
        "outputId": "6866ec5d-a9dc-44b8-c100-2d5ac00d4068"
      },
      "source": [
        "from scipy.stats import ks_2samp\n",
        "from scipy.stats import wasserstein_distance\n",
        "\n",
        "#perform Kolmogorov-Smirnov test on degree sequence\n",
        "ks_2samp(df_cerebelum_degrees['healthy'], df_cerebelum_degrees['dislexic'])"
      ],
      "execution_count": 27,
      "outputs": [
        {
          "output_type": "execute_result",
          "data": {
            "text/plain": [
              "Ks_2sampResult(statistic=0.6111111111111112, pvalue=0.0018396816629279345)"
            ]
          },
          "metadata": {
            "tags": []
          },
          "execution_count": 27
        }
      ]
    },
    {
      "cell_type": "code",
      "metadata": {
        "colab": {
          "base_uri": "https://localhost:8080/"
        },
        "id": "QePPqF6Aqkte",
        "outputId": "da152466-50e6-4d9a-9f5a-28e74e2f4c4a"
      },
      "source": [
        "#perform Kolmogorov-Smirnov test on strength\n",
        "ks_2samp(df_cerebelum_strength['healthy'], df_cerebelum_strength['dislexic'])"
      ],
      "execution_count": 28,
      "outputs": [
        {
          "output_type": "execute_result",
          "data": {
            "text/plain": [
              "Ks_2sampResult(statistic=0.6111111111111112, pvalue=0.0018396816629279345)"
            ]
          },
          "metadata": {
            "tags": []
          },
          "execution_count": 28
        }
      ]
    },
    {
      "cell_type": "code",
      "metadata": {
        "colab": {
          "base_uri": "https://localhost:8080/"
        },
        "id": "YzGCzgggq3-E",
        "outputId": "f5e4e79c-fe07-4c7a-f899-7294de47814f"
      },
      "source": [
        "ks_2samp(df_cerebelum_bc['healthy'], df_cerebelum_bc['dislexic'])"
      ],
      "execution_count": 29,
      "outputs": [
        {
          "output_type": "execute_result",
          "data": {
            "text/plain": [
              "Ks_2sampResult(statistic=0.2222222222222222, pvalue=0.7810478607409853)"
            ]
          },
          "metadata": {
            "tags": []
          },
          "execution_count": 29
        }
      ]
    },
    {
      "cell_type": "code",
      "metadata": {
        "colab": {
          "base_uri": "https://localhost:8080/"
        },
        "id": "heiAi5jqSawF",
        "outputId": "8e5fe2de-8688-4fd7-ddbd-96f7f5502a48"
      },
      "source": [
        "ks_2samp(df_cerebelum_cc['healthy'], df_cerebelum_cc['dislexic'])"
      ],
      "execution_count": 30,
      "outputs": [
        {
          "output_type": "execute_result",
          "data": {
            "text/plain": [
              "Ks_2sampResult(statistic=0.9444444444444444, pvalue=7.933766012281933e-09)"
            ]
          },
          "metadata": {
            "tags": []
          },
          "execution_count": 30
        }
      ]
    }
  ]
}
